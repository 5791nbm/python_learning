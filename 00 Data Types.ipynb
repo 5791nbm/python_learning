{
  "nbformat": 4,
  "nbformat_minor": 0,
  "metadata": {
    "colab": {
      "provenance": [],
      "authorship_tag": "ABX9TyPqgsvK+57C3F4qoyQ0Uc15",
      "include_colab_link": true
    },
    "kernelspec": {
      "name": "python3",
      "display_name": "Python 3"
    },
    "language_info": {
      "name": "python"
    }
  },
  "cells": [
    {
      "cell_type": "markdown",
      "metadata": {
        "id": "view-in-github",
        "colab_type": "text"
      },
      "source": [
        "<a href=\"https://colab.research.google.com/github/5791nbm/python_learning/blob/main/00%20Data%20Types.ipynb\" target=\"_parent\"><img src=\"https://colab.research.google.com/assets/colab-badge.svg\" alt=\"Open In Colab\"/></a>"
      ]
    },
    {
      "cell_type": "markdown",
      "source": [
        "# Python Data Types\n",
        "Python has several built-in data types that are used to store different kinds of data. Understanding these data types is essential for effective programming.\n",
        "\n",
        "## Common Data Types\n",
        "### 1. Integers (int)\n",
        "* Whole numbers, positive or negative, without decimals.\n",
        "* Example: 42, -7\n",
        "```\n",
        "x = 42\n",
        "y = -7\n",
        "```\n",
        "\n",
        "### 2. Floating-Point Numbers (float)\n",
        "* Numbers that contain a decimal point.\n",
        "* Example: 3.14, -0.001\n",
        "```\n",
        "pi = 3.14\n",
        "temperature = -0.001\n",
        "```\n",
        "\n",
        "### 3. Strings (str)\n",
        "* A sequence of characters enclosed in single, double, or triple quotes.\n",
        "* Example: \"Hello, World!\", 'Python'\n",
        "```\n",
        "greeting = \"Hello, World!\"\n",
        "language = 'Python'\n",
        "```\n",
        "\n",
        "### 4. Booleans (bool)\n",
        "* Represents one of two values: True or False.\n",
        "* Example: True, False\n",
        "```\n",
        "is_active = True\n",
        "is_logged_in = False\n",
        "```\n",
        "\n",
        "### 5. Lists (list)\n",
        "* An ordered collection of items, which can be of different types.\n",
        "* Example: [1, 2, 3], ['apple', 'banana', 'cherry']\n",
        "```\n",
        "numbers = [1, 2, 3]\n",
        "fruits = ['apple', 'banana', 'cherry']\n",
        "```\n",
        "\n",
        "### 6. Tuples (tuple)\n",
        "* Similar to lists, but immutable (cannot be changed).\n",
        "* Example: (1, 2, 3), ('apple', 'banana', 'cherry')\n",
        "```\n",
        "coordinates = (1, 2, 3)\n",
        "colors = ('red', 'green', 'blue')\n",
        "```\n",
        "\n",
        "### 7. Dictionaries (dict)\n",
        "* A collection of key-value pairs, where each key is unique.\n",
        "* Example: {'name': 'Alice', 'age': 25}, {'brand': 'Ford', 'model': 'Mustang'}\n",
        "```\n",
        "person = {'name': 'Alice', 'age': 25}\n",
        "car = {'brand': 'Ford', 'model': 'Mustang'}\n",
        "```\n",
        "\n",
        "### 8. Sets (set)\n",
        "* An unordered collection of unique items.\n",
        "* Example: {1, 2, 3}, {'apple', 'banana', 'cherry'}\n",
        "```\n",
        "unique_numbers = {1, 2, 3}\n",
        "unique_fruits = {'apple', 'banana', 'cherry'}\n",
        "```\n",
        "\n",
        "Notes:\n",
        "* Python is dynamically typed, meaning you don't need to declare the type of a variable when you create it.\n",
        "* You can use the type() function to check the type of a variable.\n",
        "```\n",
        "print(type(42))          # Output: <class 'int'>\n",
        "print(type(3.14))        # Output: <class 'float'>\n",
        "print(type(\"Hello\"))     # Output: <class 'str'>\n",
        "print(type([1, 2, 3]))   # Output: <class 'list'>\n",
        "```"
      ],
      "metadata": {
        "id": "22WxcC94ybY4"
      }
    },
    {
      "cell_type": "code",
      "source": [
        "#Number value\n",
        "'''\n",
        "You do not need to declare the type of the variable in python before using it.\n",
        "Numbers can be integers, floats, or complex numbers.\n",
        "'''\n",
        "\n",
        "#basic\n",
        "number1 = 5. #float\n",
        "number2 = 10 #integer\n",
        "result = number1 + number2\n",
        "print(number1)\n",
        "print(type(number1))\n",
        "print(number2)\n",
        "print(type(number2))\n",
        "print(result)\n",
        "print(type(result))\n",
        "print()\n",
        "\n",
        "#respective\n",
        "number1, number2 = 3, 4\n",
        "result = number1 + number2\n",
        "print(number1, number2, result)\n",
        "print(type(number1), type(number2), type(result))\n",
        "print()\n",
        "\n",
        "'''\n",
        "Complex number literals in Python mimic the mathematical notation, which is also known as the standard form,\n",
        "the algebraic form, or sometimes the canonical form, of a complex number. In Python, you can use either\n",
        "lowercase j or uppercase J in those literals.\n",
        "\n",
        "If you learned about complex numbers in math class, you might have seen them expressed using an i instead of a j.\n",
        "If you’re curious about why Python uses j instead of i, then you can expand the collapsible section below to learn more.\n",
        "https://realpython.com/python-complex-numbers/\n",
        "'''\n",
        "\n",
        "#Complex numbers\n",
        "z = 2 + 3j\n",
        "print(z)\n",
        "print(z.real)\n",
        "print(z.imag)\n",
        "print(type(z))"
      ],
      "metadata": {
        "colab": {
          "base_uri": "https://localhost:8080/"
        },
        "id": "Ny5_YN7byasK",
        "outputId": "2b78dbf9-407d-4885-b28c-9eecb4d63dcd"
      },
      "execution_count": null,
      "outputs": [
        {
          "output_type": "stream",
          "name": "stdout",
          "text": [
            "5.0\n",
            "<class 'float'>\n",
            "10\n",
            "<class 'int'>\n",
            "15.0\n",
            "<class 'float'>\n",
            "\n",
            "3 4 7\n",
            "<class 'int'> <class 'int'> <class 'int'>\n",
            "\n",
            "(2+3j)\n",
            "2.0\n",
            "3.0\n",
            "<class 'complex'>\n"
          ]
        }
      ]
    },
    {
      "cell_type": "code",
      "execution_count": null,
      "metadata": {
        "colab": {
          "base_uri": "https://localhost:8080/"
        },
        "id": "XJBtP5zavqAR",
        "outputId": "104e9576-faa6-42c3-9556-81b994f2e4cb"
      },
      "outputs": [
        {
          "output_type": "stream",
          "name": "stdout",
          "text": [
            "True\n",
            "<class 'bool'>\n",
            "False\n",
            "<class 'bool'>\n",
            "\n",
            "True\n",
            "<class 'bool'>\n",
            "False\n",
            "<class 'bool'>\n"
          ]
        }
      ],
      "source": [
        "#Binary, Boolean value\n",
        "\n",
        "Bool1 = True\n",
        "Bool2 = False\n",
        "print(Bool1)\n",
        "print(type(Bool1))\n",
        "print(Bool2)\n",
        "print(type(Bool2))\n",
        "\n",
        "print()\n",
        "resultA = 3 > 1\n",
        "print(resultA)\n",
        "print(type(resultA))\n",
        "resultB = 3 < 1\n",
        "print(resultB)\n",
        "print(type(resultB))\n"
      ]
    },
    {
      "cell_type": "code",
      "source": [
        "#String values, one-dimensional arrays, there are no character in python, just strings with a single letter.\n",
        "\n",
        "str1 = 'Hello World!'\n",
        "str2 = \"Good-bye\"\n",
        "str3 = 'a'\n",
        "print(str1)\n",
        "print(str2)\n",
        "print(type(str1))\n",
        "print(type(str2))\n",
        "print()\n",
        "print(str3)\n",
        "print(type(str3))\n",
        "print(str1 + ' ' + str3 + ' ' + str2)\n",
        "\n",
        "#Print out letters in a string\n",
        "print(str1[0])\n",
        "print(str2[-3])\n",
        "print(str1[3:7])\n",
        "\n",
        "print()\n",
        "name = 'Matthew'\n",
        "age = 49\n",
        "print('My name is ' + name + ' and I am ' + str(age) + ' years old.')\n",
        "#Use format to insert numbers into a string.\n",
        "print('My name is {} and I am {} years old.'.format(name, age))"
      ],
      "metadata": {
        "colab": {
          "base_uri": "https://localhost:8080/"
        },
        "id": "hsyrpSq3XUvD",
        "outputId": "75fb39df-afbc-41bf-fe76-4f543066147c"
      },
      "execution_count": null,
      "outputs": [
        {
          "output_type": "stream",
          "name": "stdout",
          "text": [
            "Hello World!\n",
            "Good-bye\n",
            "<class 'str'>\n",
            "<class 'str'>\n",
            "\n",
            "a\n",
            "<class 'str'>\n",
            "Hello World! a Good-bye\n",
            "H\n",
            "b\n",
            "lo W\n",
            "\n",
            "My name is Matthew and I am 49 years old.\n",
            "My name is Matthew and I am 49 years old.\n"
          ]
        }
      ]
    }
  ]
}
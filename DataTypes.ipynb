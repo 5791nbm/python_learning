{
  "nbformat": 4,
  "nbformat_minor": 0,
  "metadata": {
    "colab": {
      "provenance": [],
      "authorship_tag": "ABX9TyPuX+e4aPQPSD/uYYuoDq97",
      "include_colab_link": true
    },
    "kernelspec": {
      "name": "python3",
      "display_name": "Python 3"
    },
    "language_info": {
      "name": "python"
    }
  },
  "cells": [
    {
      "cell_type": "markdown",
      "metadata": {
        "id": "view-in-github",
        "colab_type": "text"
      },
      "source": [
        "<a href=\"https://colab.research.google.com/github/5791nbm/python_learning/blob/main/DataTypes.ipynb\" target=\"_parent\"><img src=\"https://colab.research.google.com/assets/colab-badge.svg\" alt=\"Open In Colab\"/></a>"
      ]
    },
    {
      "cell_type": "markdown",
      "source": [
        "Python data types:\n",
        "\n",
        "\n",
        "*   Number\n",
        "*   Boolean\n",
        "*   String\n",
        "*   List\n",
        "*   Tuple\n",
        "*   Dictionary\n",
        "\n",
        "Lists, tuples, and dictionaries are data structures and can effectively store data\n",
        "\n"
      ],
      "metadata": {
        "id": "22WxcC94ybY4"
      }
    },
    {
      "cell_type": "code",
      "source": [
        "#Number value\n",
        "'''\n",
        "You do not need to declare the type of the variable in python before using it.\n",
        "Numbers can be integers, floats, or complex numbers.\n",
        "'''\n",
        "\n",
        "#basic\n",
        "number1 = 5. #float\n",
        "number2 = 10 #integer\n",
        "result = number1 + number2\n",
        "print(number1)\n",
        "print(type(number1))\n",
        "print(number2)\n",
        "print(type(number2))\n",
        "print(result)\n",
        "print(type(result))\n",
        "print()\n",
        "\n",
        "#respective\n",
        "number1, number2 = 3, 4\n",
        "result = number1 + number2\n",
        "print(number1, number2, result)\n",
        "print(type(number1), type(number2), type(result))\n",
        "print()\n",
        "\n",
        "'''\n",
        "Complex number literals in Python mimic the mathematical notation, which is also known as the standard form,\n",
        "the algebraic form, or sometimes the canonical form, of a complex number. In Python, you can use either\n",
        "lowercase j or uppercase J in those literals.\n",
        "\n",
        "If you learned about complex numbers in math class, you might have seen them expressed using an i instead of a j.\n",
        "If you’re curious about why Python uses j instead of i, then you can expand the collapsible section below to learn more.\n",
        "https://realpython.com/python-complex-numbers/\n",
        "'''\n",
        "\n",
        "#Complex numbers\n",
        "z = 2 + 3j\n",
        "print(z)\n",
        "print(z.real)\n",
        "print(z.imag)\n",
        "print(type(z))"
      ],
      "metadata": {
        "colab": {
          "base_uri": "https://localhost:8080/"
        },
        "id": "Ny5_YN7byasK",
        "outputId": "2b78dbf9-407d-4885-b28c-9eecb4d63dcd"
      },
      "execution_count": null,
      "outputs": [
        {
          "output_type": "stream",
          "name": "stdout",
          "text": [
            "5.0\n",
            "<class 'float'>\n",
            "10\n",
            "<class 'int'>\n",
            "15.0\n",
            "<class 'float'>\n",
            "\n",
            "3 4 7\n",
            "<class 'int'> <class 'int'> <class 'int'>\n",
            "\n",
            "(2+3j)\n",
            "2.0\n",
            "3.0\n",
            "<class 'complex'>\n"
          ]
        }
      ]
    },
    {
      "cell_type": "code",
      "execution_count": null,
      "metadata": {
        "colab": {
          "base_uri": "https://localhost:8080/"
        },
        "id": "XJBtP5zavqAR",
        "outputId": "104e9576-faa6-42c3-9556-81b994f2e4cb"
      },
      "outputs": [
        {
          "output_type": "stream",
          "name": "stdout",
          "text": [
            "True\n",
            "<class 'bool'>\n",
            "False\n",
            "<class 'bool'>\n",
            "\n",
            "True\n",
            "<class 'bool'>\n",
            "False\n",
            "<class 'bool'>\n"
          ]
        }
      ],
      "source": [
        "#Binary, Boolean value\n",
        "\n",
        "Bool1 = True\n",
        "Bool2 = False\n",
        "print(Bool1)\n",
        "print(type(Bool1))\n",
        "print(Bool2)\n",
        "print(type(Bool2))\n",
        "\n",
        "print()\n",
        "resultA = 3 > 1\n",
        "print(resultA)\n",
        "print(type(resultA))\n",
        "resultB = 3 < 1\n",
        "print(resultB)\n",
        "print(type(resultB))\n"
      ]
    },
    {
      "cell_type": "code",
      "source": [
        "#String values, one-dimensional arrays, there are no character in python, just strings with a single letter.\n",
        "\n",
        "str1 = 'Hello World!'\n",
        "str2 = \"Good-bye\"\n",
        "str3 = 'a'\n",
        "print(str1)\n",
        "print(str2)\n",
        "print(type(str1))\n",
        "print(type(str2))\n",
        "print()\n",
        "print(str3)\n",
        "print(type(str3))\n",
        "print(str1 + ' ' + str3 + ' ' + str2)\n",
        "\n",
        "#Print out letters in a string\n",
        "print(str1[0])\n",
        "print(str2[-3])\n",
        "print(str1[3:7])\n",
        "\n",
        "print()\n",
        "name = 'Matthew'\n",
        "age = 49\n",
        "print('My name is ' + name + ' and I am ' + str(age) + ' years old.')\n",
        "#Use format to insert numbers into a string.\n",
        "print('My name is {} and I am {} years old.'.format(name, age))"
      ],
      "metadata": {
        "colab": {
          "base_uri": "https://localhost:8080/"
        },
        "id": "hsyrpSq3XUvD",
        "outputId": "75fb39df-afbc-41bf-fe76-4f543066147c"
      },
      "execution_count": null,
      "outputs": [
        {
          "output_type": "stream",
          "name": "stdout",
          "text": [
            "Hello World!\n",
            "Good-bye\n",
            "<class 'str'>\n",
            "<class 'str'>\n",
            "\n",
            "a\n",
            "<class 'str'>\n",
            "Hello World! a Good-bye\n",
            "H\n",
            "b\n",
            "lo W\n",
            "\n",
            "My name is Matthew and I am 49 years old.\n",
            "My name is Matthew and I am 49 years old.\n"
          ]
        }
      ]
    }
  ]
}
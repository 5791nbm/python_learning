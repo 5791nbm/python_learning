{
  "nbformat": 4,
  "nbformat_minor": 0,
  "metadata": {
    "colab": {
      "provenance": [],
      "authorship_tag": "ABX9TyMINQ3JCIvBsx9U2smBkcCi",
      "include_colab_link": true
    },
    "kernelspec": {
      "name": "python3",
      "display_name": "Python 3"
    },
    "language_info": {
      "name": "python"
    }
  },
  "cells": [
    {
      "cell_type": "markdown",
      "metadata": {
        "id": "view-in-github",
        "colab_type": "text"
      },
      "source": [
        "<a href=\"https://colab.research.google.com/github/5791nbm/python_learning/blob/main/02%20Type%20Casting.ipynb\" target=\"_parent\"><img src=\"https://colab.research.google.com/assets/colab-badge.svg\" alt=\"Open In Colab\"/></a>"
      ]
    },
    {
      "cell_type": "markdown",
      "source": [
        "# Type Casting\n",
        "\n",
        "Type casting is the process of converting a variable from one data type to another. This is useful when you need to perform operations that require a specific data type.\n",
        "\n",
        "## int()\n",
        "The int() function converts a value to an integer. If the value is a floating-point number, it truncates the decimal part. If the value is a string, it must represent a whole number.\n",
        "\n",
        "```\n",
        "# Examples\n",
        "int(3.14)  # Output: 3\n",
        "int(\"42\")  # Output: 42\n",
        "```\n",
        "\n",
        "## float()\n",
        "The float() function converts a value to a floating-point number. This is useful for performing arithmetic operations that require decimal precision.\n",
        "\n",
        "```\n",
        "# Examples\n",
        "float(3)     # Output: 3.0\n",
        "float(\"3.14\")  # Output: 3.14\n",
        "```\n",
        "\n",
        "## str()\n",
        "The str() function converts a value to a string. This is useful for concatenating numbers with strings or for displaying numbers as text.\n",
        "\n",
        "```\n",
        "# Examples\n",
        "str(42)    # Output: '42'\n",
        "str(3.14)  # Output: '3.14'\n",
        "```\n"
      ],
      "metadata": {
        "id": "22WxcC94ybY4"
      }
    },
    {
      "cell_type": "code",
      "source": [
        "#Type casting, pytohn is an OOP language and defines the data typses with classes\n",
        "print(\"Assign a float value as int type: a = int(23.5), print type and value.\")\n",
        "a = int(23.5)\n",
        "print(type(a))\n",
        "print(a)\n",
        "print()\n",
        "\n",
        "print(\"Print float(a), but since a assigned int type the .5 is lost: 'print(float(a)'\")\n",
        "print(float(a)) #loss of .5\n",
        "print()\n",
        "\n",
        "print(\"Assign a string value with int type: b = int('23.9'). Trying to assign int type causes an error.\")\n",
        "try:\n",
        "    b = int('23.9')\n",
        "except:\n",
        "    print(\"Error: Cannot cast this string to int, b = int('23.9'), but can cast as float\")\n",
        "    b = float('23.9')\n",
        "    print(type(b))\n",
        "    print(b)\n",
        "finally:\n",
        "    print('End')\n",
        "    print()\n",
        "\n",
        "#float function\n",
        "print(\"Assign c a float type: c = float(10). This also works c = float('10')\")\n",
        "c = float(10)\n",
        "print(type(c))\n",
        "print(c)\n",
        "print()\n",
        "\n",
        "#change numbers into strings\n",
        "print(\"Cast the value 10.5 to a string value: s = str(10.5).\")\n",
        "s = str(10.5)\n",
        "print(type(s))\n",
        "print(s)"
      ],
      "metadata": {
        "colab": {
          "base_uri": "https://localhost:8080/"
        },
        "id": "0hMhm5TRC0uN",
        "outputId": "8bfa9656-b60c-4f01-d988-e4960d2d1988"
      },
      "execution_count": null,
      "outputs": [
        {
          "output_type": "stream",
          "name": "stdout",
          "text": [
            "Assign a float value as int type: a = int(23.5), print type and value.\n",
            "<class 'int'>\n",
            "23\n",
            "\n",
            "Print float(a), but since a assigned int type the .5 is lost: 'print(float(a)'\n",
            "23.0\n",
            "\n",
            "Assign a string value with int type: b = int('23.9'). Trying to assign int type causes an error.\n",
            "Error: Cannot cast this string to int, b = int('23.9'), but can cast as float\n",
            "<class 'float'>\n",
            "23.9\n",
            "End\n",
            "\n",
            "Assign c a float type: c = float(10). This also works c = float('10')\n",
            "<class 'float'>\n",
            "10.0\n",
            "\n",
            "Cast the value 10.5 to a string value: s = str(10.5).\n",
            "<class 'str'>\n",
            "10.5\n"
          ]
        }
      ]
    }
  ]
}
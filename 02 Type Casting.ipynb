{
  "nbformat": 4,
  "nbformat_minor": 0,
  "metadata": {
    "colab": {
      "provenance": [],
      "authorship_tag": "ABX9TyN1mb8wi/5hyEBFuO55lciG",
      "include_colab_link": true
    },
    "kernelspec": {
      "name": "python3",
      "display_name": "Python 3"
    },
    "language_info": {
      "name": "python"
    }
  },
  "cells": [
    {
      "cell_type": "markdown",
      "metadata": {
        "id": "view-in-github",
        "colab_type": "text"
      },
      "source": [
        "<a href=\"https://colab.research.google.com/github/5791nbm/python_learning/blob/main/02%20Type%20Casting.ipynb\" target=\"_parent\"><img src=\"https://colab.research.google.com/assets/colab-badge.svg\" alt=\"Open In Colab\"/></a>"
      ]
    },
    {
      "cell_type": "markdown",
      "source": [
        "Python data types:\n",
        "\n",
        "\n",
        "*   Number\n",
        "*   Boolean\n",
        "*   String\n",
        "*   List\n",
        "*   Tuple\n",
        "*   Dictionary\n",
        "\n",
        "Lists, tuples, and dictionaries are data structures and can effectively store data\n",
        "\n"
      ],
      "metadata": {
        "id": "22WxcC94ybY4"
      }
    },
    {
      "cell_type": "code",
      "source": [
        "#Number value\n",
        "'''\n",
        "You do not need to declare the type of the variable in python before using it.\n",
        "Numbers can be integers, floats, or complex numbers.\n",
        "'''\n",
        "\n",
        "#basic\n",
        "number1 = 5. #float\n",
        "number2 = 10 #integer\n",
        "result = number1 + number2\n",
        "print(number1)\n",
        "print(type(number1))\n",
        "print(number2)\n",
        "print(type(number2))\n",
        "print(result)\n",
        "print(type(result))\n",
        "print()\n",
        "\n",
        "#respective\n",
        "number1, number2 = 3, 4\n",
        "result = number1 + number2\n",
        "print(number1, number2, result)\n",
        "print(type(number1), type(number2), type(result))\n",
        "print()\n",
        "\n",
        "'''\n",
        "Complex number literals in Python mimic the mathematical notation, which is also known as the standard form,\n",
        "the algebraic form, or sometimes the canonical form, of a complex number. In Python, you can use either\n",
        "lowercase j or uppercase J in those literals.\n",
        "\n",
        "If you learned about complex numbers in math class, you might have seen them expressed using an i instead of a j.\n",
        "If you’re curious about why Python uses j instead of i, then you can expand the collapsible section below to learn more.\n",
        "https://realpython.com/python-complex-numbers/\n",
        "'''\n",
        "\n",
        "#Complex numbers\n",
        "z = 2 + 3j\n",
        "print(z)\n",
        "print(z.real)\n",
        "print(z.imag)\n",
        "print(type(z))"
      ],
      "metadata": {
        "colab": {
          "base_uri": "https://localhost:8080/"
        },
        "id": "Ny5_YN7byasK",
        "outputId": "2b78dbf9-407d-4885-b28c-9eecb4d63dcd"
      },
      "execution_count": null,
      "outputs": [
        {
          "output_type": "stream",
          "name": "stdout",
          "text": [
            "5.0\n",
            "<class 'float'>\n",
            "10\n",
            "<class 'int'>\n",
            "15.0\n",
            "<class 'float'>\n",
            "\n",
            "3 4 7\n",
            "<class 'int'> <class 'int'> <class 'int'>\n",
            "\n",
            "(2+3j)\n",
            "2.0\n",
            "3.0\n",
            "<class 'complex'>\n"
          ]
        }
      ]
    },
    {
      "cell_type": "code",
      "execution_count": null,
      "metadata": {
        "colab": {
          "base_uri": "https://localhost:8080/"
        },
        "id": "XJBtP5zavqAR",
        "outputId": "104e9576-faa6-42c3-9556-81b994f2e4cb"
      },
      "outputs": [
        {
          "output_type": "stream",
          "name": "stdout",
          "text": [
            "True\n",
            "<class 'bool'>\n",
            "False\n",
            "<class 'bool'>\n",
            "\n",
            "True\n",
            "<class 'bool'>\n",
            "False\n",
            "<class 'bool'>\n"
          ]
        }
      ],
      "source": [
        "#Binary, Boolean value\n",
        "\n",
        "Bool1 = True\n",
        "Bool2 = False\n",
        "print(Bool1)\n",
        "print(type(Bool1))\n",
        "print(Bool2)\n",
        "print(type(Bool2))\n",
        "\n",
        "print()\n",
        "resultA = 3 > 1\n",
        "print(resultA)\n",
        "print(type(resultA))\n",
        "resultB = 3 < 1\n",
        "print(resultB)\n",
        "print(type(resultB))\n"
      ]
    },
    {
      "cell_type": "code",
      "source": [
        "#String values, one-dimensional arrays, there are no character in python, just strings with a single letter.\n",
        "\n",
        "str1 = 'Hello World!'\n",
        "str2 = \"Good-bye\"\n",
        "str3 = 'a'\n",
        "print(str1)\n",
        "print(str2)\n",
        "print(type(str1))\n",
        "print(type(str2))\n",
        "print()\n",
        "print(str3)\n",
        "print(type(str3))\n",
        "print(str1 + ' ' + str3 + ' ' + str2)\n",
        "\n",
        "#Print out letters in a string\n",
        "print(str1[0])\n",
        "print(str2[-3])\n",
        "print(str1[3:7])\n",
        "\n",
        "print()\n",
        "name = 'Matthew'\n",
        "age = 49\n",
        "print('My name is ' + name + ' and I am ' + str(age) + ' years old.')\n",
        "#Use format to insert numbers into a string.\n",
        "print('My name is {} and I am {} years old.'.format(name, age))"
      ],
      "metadata": {
        "colab": {
          "base_uri": "https://localhost:8080/"
        },
        "id": "hsyrpSq3XUvD",
        "outputId": "75fb39df-afbc-41bf-fe76-4f543066147c"
      },
      "execution_count": null,
      "outputs": [
        {
          "output_type": "stream",
          "name": "stdout",
          "text": [
            "Hello World!\n",
            "Good-bye\n",
            "<class 'str'>\n",
            "<class 'str'>\n",
            "\n",
            "a\n",
            "<class 'str'>\n",
            "Hello World! a Good-bye\n",
            "H\n",
            "b\n",
            "lo W\n",
            "\n",
            "My name is Matthew and I am 49 years old.\n",
            "My name is Matthew and I am 49 years old.\n"
          ]
        }
      ]
    },
    {
      "cell_type": "code",
      "source": [
        "#Advanced string slicing, intergers as strings\n",
        "\n",
        "s = '0123456789'\n",
        "\n",
        "#array indecies - random indexes\n",
        "\n",
        "print(s[0])\n",
        "print(s[2:7]) #substring, the first index is included, but the last is excluded\n",
        "print(s[:6]) #python will start with index zero\n",
        "print(s[3:]) #python will include all remaining charaters, including the first index\n",
        "print(s[:]) #returns the entire string\n",
        "\n",
        "#We can also set the step size\n",
        "print(s[1:8:2]) #returns every other string charater, left to right\n",
        "print(s[8:1:-2]) #returns every other string charater, right to left\n",
        "print(s[::-1]) #reverse a string\n"
      ],
      "metadata": {
        "id": "Vh3p94VRYk4s",
        "colab": {
          "base_uri": "https://localhost:8080/"
        },
        "outputId": "ed286c58-99cf-49ff-b91f-4bcd09ae10b0"
      },
      "execution_count": 8,
      "outputs": [
        {
          "output_type": "stream",
          "name": "stdout",
          "text": [
            "0\n",
            "23456\n",
            "012345\n",
            "3456789\n",
            "0123456789\n",
            "1357\n",
            "8642\n",
            "9876543210\n"
          ]
        }
      ]
    },
    {
      "cell_type": "code",
      "source": [
        "#Type casting, pytohn is an OOP language and defines the data typses with classes\n",
        "print(\"Assign a float value as int type: a = int(23.5), print type and value.\")\n",
        "a = int(23.5)\n",
        "print(type(a))\n",
        "print(a)\n",
        "print()\n",
        "\n",
        "print(\"Print float(a), but since a assigned int type the .5 is lost: 'print(float(a)'\")\n",
        "print(float(a)) #loss of .5\n",
        "print()\n",
        "\n",
        "print(\"Assign a string value with int type: b = int('23.9'). Trying to assign int type causes an error.\")\n",
        "try:\n",
        "    b = int('23.9')\n",
        "except:\n",
        "    print(\"Error: Cannot cast this string to int, b = int('23.9'), but can cast as float\")\n",
        "    b = float('23.9')\n",
        "    print(type(b))\n",
        "    print(b)\n",
        "finally:\n",
        "    print('End')\n",
        "    print()\n",
        "\n",
        "#float function\n",
        "print(\"Assign c a float type: c = float(10). This also works c = float('10')\")\n",
        "c = float(10)\n",
        "print(type(c))\n",
        "print(c)\n",
        "print()\n",
        "\n",
        "#change numbers into strings\n",
        "print(\"Cast the value 10.5 to a string value: s = str(10.5).\")\n",
        "s = str(10.5)\n",
        "print(type(s))\n",
        "print(s)"
      ],
      "metadata": {
        "colab": {
          "base_uri": "https://localhost:8080/"
        },
        "id": "0hMhm5TRC0uN",
        "outputId": "8bfa9656-b60c-4f01-d988-e4960d2d1988"
      },
      "execution_count": 29,
      "outputs": [
        {
          "output_type": "stream",
          "name": "stdout",
          "text": [
            "Assign a float value as int type: a = int(23.5), print type and value.\n",
            "<class 'int'>\n",
            "23\n",
            "\n",
            "Print float(a), but since a assigned int type the .5 is lost: 'print(float(a)'\n",
            "23.0\n",
            "\n",
            "Assign a string value with int type: b = int('23.9'). Trying to assign int type causes an error.\n",
            "Error: Cannot cast this string to int, b = int('23.9'), but can cast as float\n",
            "<class 'float'>\n",
            "23.9\n",
            "End\n",
            "\n",
            "Assign c a float type: c = float(10). This also works c = float('10')\n",
            "<class 'float'>\n",
            "10.0\n",
            "\n",
            "Cast the value 10.5 to a string value: s = str(10.5).\n",
            "<class 'str'>\n",
            "10.5\n"
          ]
        }
      ]
    },
    {
      "cell_type": "code",
      "source": [
        "#Operators\n",
        "# arithmetic: +, -, *, /\n",
        "a = 5\n",
        "b = 3\n",
        "print(a + b) # addition\n",
        "print(a - b) # subtraction\n",
        "print(a * b) # multiplecation\n",
        "print(a ** b) # exponentiation\n",
        "print(a / b) #division\n",
        "print(a // b) # integer division, truncates, no remainder\n",
        "print(a % b) # modulus, returns the remainder\n",
        "print(round(a / b, 1)) # round to 2 decimal\n",
        "print()\n",
        "\n",
        "#comparative operators\n",
        "print(a == b) #equal to\n",
        "print(a != b) #not equal to\n",
        "print(a > b) #greater than\n",
        "print(a < b) #less than\n",
        "print(a >= b) #greater than or equal to\n",
        "print(a <= b) #less than or equal to\n",
        "print()\n",
        "\n",
        "#assignment operatots\n",
        "e = 10\n",
        "print(e)\n",
        "e += 5 #e = e + 5\n",
        "print(e)\n",
        "e -= 3 #e = e - 5\n",
        "print(e)\n",
        "e *= 2 #e = e * 2\n",
        "print(e)\n",
        "e /= 2 #e = e / 2\n",
        "print(e)\n",
        "e **= 2 #e = e ** 2\n",
        "print(e)"
      ],
      "metadata": {
        "colab": {
          "base_uri": "https://localhost:8080/"
        },
        "id": "P0x8dO0yPgBW",
        "outputId": "3a7b3693-895d-4b1a-fdaf-821db477ad7c"
      },
      "execution_count": 44,
      "outputs": [
        {
          "output_type": "stream",
          "name": "stdout",
          "text": [
            "8\n",
            "2\n",
            "15\n",
            "125\n",
            "1.6666666666666667\n",
            "1\n",
            "2\n",
            "1.7\n",
            "\n",
            "False\n",
            "True\n",
            "True\n",
            "False\n",
            "True\n",
            "False\n",
            "\n",
            "10\n",
            "15\n",
            "12\n",
            "24\n",
            "12.0\n",
            "144.0\n"
          ]
        }
      ]
    }
  ]
}
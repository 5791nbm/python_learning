{
  "nbformat": 4,
  "nbformat_minor": 0,
  "metadata": {
    "colab": {
      "provenance": [],
      "authorship_tag": "ABX9TyPn6D5r0Nu6T3tVsV09tWut",
      "include_colab_link": true
    },
    "kernelspec": {
      "name": "python3",
      "display_name": "Python 3"
    },
    "language_info": {
      "name": "python"
    }
  },
  "cells": [
    {
      "cell_type": "markdown",
      "metadata": {
        "id": "view-in-github",
        "colab_type": "text"
      },
      "source": [
        "<a href=\"https://colab.research.google.com/github/5791nbm/python_learning/blob/main/04_Conditional_Statements.ipynb\" target=\"_parent\"><img src=\"https://colab.research.google.com/assets/colab-badge.svg\" alt=\"Open In Colab\"/></a>"
      ]
    },
    {
      "cell_type": "markdown",
      "source": [
        "# Python Conditional Statements:\n",
        "\n",
        "Conditional statements are a programming language feature that performs different actions whether the condition is True or False. They are essential for controlling the flow of a program.\n",
        "\n",
        "![image.png](data:image/png;base64,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)\n",
        "\n",
        "\n",
        "**if Statement**\n",
        "* The if statement evaluates a condition and executes the block of code within it if the condition is True.\n",
        "```\n",
        "x = 10\n",
        "if x > 5:\n",
        "    print(\"x is greater than 5\")\n",
        "```\n",
        "\n",
        "**else Statement**\n",
        "* The else statement follows an if statement and executes a block of code if the condition in the if statement is False.\n",
        "```\n",
        "x = 3\n",
        "if x > 5:\n",
        "    print(\"x is greater than 5\")\n",
        "else:\n",
        "    print(\"x is not greater than 5\")\n",
        "```\n",
        "\n",
        "**elif Statement**\n",
        "* The elif (short for \"else if\") statement allows you to check multiple conditions. It comes after an if statement and before an else statement.\n",
        "```\n",
        "x = 5\n",
        "if x > 5:\n",
        "    print(\"x is greater than 5\")\n",
        "elif x == 5:\n",
        "    print(\"x is equal to 5\")\n",
        "else:\n",
        "    print(\"x is less than 5\")\n",
        "```\n",
        "\n",
        "**Nested Conditional Statements**\n",
        "* You can nest conditional statements within each other to check multiple conditions.\n",
        "```\n",
        "x = 10\n",
        "if x > 5:\n",
        "    if x < 15:\n",
        "        print(\"x is between 5 and 15\")\n",
        "    else:\n",
        "        print(\"x is 15 or greater\")\n",
        "else:\n",
        "    print(\"x is 5 or less\")\n",
        "```\n",
        "Notes:\n",
        "* Indentation is crucial in Python. Each block of code within if, elif, and else statements must be indented.\n",
        "* You can use logical operators (and, or, not) to combine multiple conditions.\n",
        "```\n",
        "x = 7\n",
        "if x > 5 and x < 10:\n",
        "    print(\"x is between 5 and 10\")\n",
        "```"
      ],
      "metadata": {
        "id": "Xv9vMtOAYnmd"
      }
    },
    {
      "cell_type": "code",
      "execution_count": null,
      "metadata": {
        "id": "45tvdgVeYgq8",
        "outputId": "3ea57f2d-1342-4785-8d0b-9855bb8f0397",
        "colab": {
          "base_uri": "https://localhost:8080/"
        }
      },
      "outputs": [
        {
          "output_type": "stream",
          "name": "stdout",
          "text": [
            "The number is less than 500\n"
          ]
        }
      ],
      "source": [
        "num = 100\n",
        "\n",
        "# Have to define a boolean condition\n",
        "if num < 500:\n",
        "  print(\"The number is less than 500\")\n",
        "  # Additional code lines...\n",
        "else:\n",
        "  print(\"the number is greater than 500\")\n",
        "  # additional code lines..."
      ]
    }
  ]
}
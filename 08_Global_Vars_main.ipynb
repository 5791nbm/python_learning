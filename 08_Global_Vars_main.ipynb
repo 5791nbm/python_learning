{
  "nbformat": 4,
  "nbformat_minor": 0,
  "metadata": {
    "colab": {
      "provenance": [],
      "authorship_tag": "ABX9TyPjOCBWKxT7Rf3uL6Cqg/dv",
      "include_colab_link": true
    },
    "kernelspec": {
      "name": "python3",
      "display_name": "Python 3"
    },
    "language_info": {
      "name": "python"
    }
  },
  "cells": [
    {
      "cell_type": "markdown",
      "metadata": {
        "id": "view-in-github",
        "colab_type": "text"
      },
      "source": [
        "<a href=\"https://colab.research.google.com/github/5791nbm/python_learning/blob/main/08_Global_Vars_main.ipynb\" target=\"_parent\"><img src=\"https://colab.research.google.com/assets/colab-badge.svg\" alt=\"Open In Colab\"/></a>"
      ]
    },
    {
      "cell_type": "markdown",
      "source": [
        "# What is a Global Variable?\n",
        "A global variable is a variable that is defined outside of all functions and is accessible throughout the entire script, including inside functions (if explicitly declared).\n",
        "\n",
        "## Example:\n",
        "```\n",
        "\n",
        "```"
      ],
      "metadata": {
        "id": "_5DWG2TX5KaU"
      }
    },
    {
      "cell_type": "code",
      "execution_count": 1,
      "metadata": {
        "colab": {
          "base_uri": "https://localhost:8080/"
        },
        "id": "jCiP2T-Hy2qQ",
        "outputId": "aaa57cf8-e329-4b0e-9a02-ec8f184fd649"
      },
      "outputs": [
        {
          "output_type": "stream",
          "name": "stdout",
          "text": [
            "Inside function: 10\n",
            "Outside function: 10\n"
          ]
        }
      ],
      "source": [
        "x = 10 # Global variable\n",
        "\n",
        "def print_x():\n",
        "  print(\"Inside function:\", x)\n",
        "\n",
        "print_x()\n",
        "print(\"Outside function:\", x)"
      ]
    },
    {
      "cell_type": "markdown",
      "source": [
        "## Modifying a Global Variable Inside a Function\n",
        "To modify a global variable inside a function, use the global keyword:"
      ],
      "metadata": {
        "id": "Wr9v4WVu56Jh"
      }
    },
    {
      "cell_type": "code",
      "source": [
        "count = 0\n",
        "\n",
        "def increment():\n",
        "  global count\n",
        "  count += 1\n",
        "\n",
        "increment()\n",
        "print(\"Count is:\", count)"
      ],
      "metadata": {
        "colab": {
          "base_uri": "https://localhost:8080/"
        },
        "id": "y6p_QkxE5-kV",
        "outputId": "e92201ef-1ba7-4bb0-a215-3615b81f93b0"
      },
      "execution_count": 3,
      "outputs": [
        {
          "output_type": "stream",
          "name": "stdout",
          "text": [
            "Count is: 1\n"
          ]
        }
      ]
    },
    {
      "cell_type": "markdown",
      "source": [
        "## When to Use Global Variables\n",
        " * When a value needs to be shared across multiple functions.\n",
        " * Use sparingly to avoid code that is hard to debug or maintain."
      ],
      "metadata": {
        "id": "q9V9lMHy6KnU"
      }
    },
    {
      "cell_type": "code",
      "source": [],
      "metadata": {
        "id": "5uBpvQUB6xSI"
      },
      "execution_count": null,
      "outputs": []
    },
    {
      "cell_type": "markdown",
      "source": [
        "# if __name__ == \"__main__\" in Python\n",
        "What Does It Mean?\n",
        "This line checks whether a Python script is being run directly or imported as a module in another script.\n",
        "\n",
        "Why Use It?\n",
        "It allows you to write code that can be used both as a reusable module and as a standalone script.\n",
        "\n",
        "## Example:"
      ],
      "metadata": {
        "id": "qw3L6c1o6WCy"
      }
    },
    {
      "cell_type": "code",
      "source": [
        "def greet():\n",
        "  print(\"Hello from greet()!\")\n",
        "\n",
        "if __name__ == \"__main__\":\n",
        "  greet()"
      ],
      "metadata": {
        "colab": {
          "base_uri": "https://localhost:8080/"
        },
        "id": "bcCrfZlo6gG1",
        "outputId": "e890e81e-2cf0-4249-d33c-0419a303bbfe"
      },
      "execution_count": 4,
      "outputs": [
        {
          "output_type": "stream",
          "name": "stdout",
          "text": [
            "Hello from greet()!\n"
          ]
        }
      ]
    },
    {
      "cell_type": "markdown",
      "source": [
        "## How It Works:\n",
        "* When you run the script directly: __name__ is set to \"__main__\", so greet() runs.\n",
        "* When you import the script: __name__ is set to the module's name, so greet() does not run automatically."
      ],
      "metadata": {
        "id": "UQMekN4U6Was"
      }
    }
  ]
}
{
  "nbformat": 4,
  "nbformat_minor": 0,
  "metadata": {
    "colab": {
      "provenance": [],
      "authorship_tag": "ABX9TyMHVQBTJO72mp+/T58X7oQZ",
      "include_colab_link": true
    },
    "kernelspec": {
      "name": "python3",
      "display_name": "Python 3"
    },
    "language_info": {
      "name": "python"
    }
  },
  "cells": [
    {
      "cell_type": "markdown",
      "metadata": {
        "id": "view-in-github",
        "colab_type": "text"
      },
      "source": [
        "<a href=\"https://colab.research.google.com/github/5791nbm/python_learning/blob/main/06_Functions.ipynb\" target=\"_parent\"><img src=\"https://colab.research.google.com/assets/colab-badge.svg\" alt=\"Open In Colab\"/></a>"
      ]
    },
    {
      "cell_type": "markdown",
      "source": [
        "# Python Functions\n",
        "\n",
        "#### What is a Function?\n",
        "A function is a block of reusable code that performs a specific task. Functions help with modularity and code reuse, making programs easier to manage and understand.\n",
        "\n",
        "#### Benefits of Functions\n",
        "- **Modularity**: Breaks down complex problems into smaller, manageable pieces.\n",
        "- **Code Reuse**: Allows the same code to be used multiple times without rewriting it.\n",
        "\n",
        "#### Basic Syntax\n",
        "To define a function in Python, use the `def` keyword followed by the function name and parentheses. Here's the basic syntax:\n",
        "\n",
        "```python\n",
        "def function_name(parameters):\n",
        "    # code block\n",
        "    return value\n",
        "```\n",
        "\n",
        "#### Defining a Function\n",
        "Here's an example of defining a simple function:\n",
        "\n",
        "```python\n",
        "def greet(name):\n",
        "    return f\"Hello, {name}!\"\n",
        "```\n",
        "\n",
        "#### Positional Arguments\n",
        "Positional arguments are passed to functions in the order they are defined. Example:\n",
        "\n",
        "```python\n",
        "def add(a, b):\n",
        "    return a + b\n",
        "\n",
        "result = add(2, 3)  # result is 5\n",
        "```\n",
        "\n",
        "#### Keyword Arguments\n",
        "Keyword arguments are passed to functions using the parameter name. Example:\n",
        "\n",
        "```python\n",
        "def introduce(name, age):\n",
        "    return f\"My name is {name} and I am {age} years old.\"\n",
        "\n",
        "introduction = introduce(name=\"Alice\", age=30)\n",
        "```\n",
        "\n",
        "#### Returning Values\n",
        "Functions can return values using the `return` statement. Example:\n",
        "\n",
        "```python\n",
        "def square(number):\n",
        "    return number * number\n",
        "\n",
        "result = square(4)  # result is 16\n",
        "```\n",
        "\n",
        "#### Returning Multiple Values\n",
        "Functions can return multiple values as tuples. Example:\n",
        "\n",
        "```python\n",
        "def get_coordinates():\n",
        "    x = 10\n",
        "    y = 20\n",
        "    return x, y\n",
        "\n",
        "coordinates = get_coordinates()  # coordinates is (10, 20)\n",
        "```\n",
        "\n",
        "#### Examples\n",
        "Here are a few more examples to illustrate different concepts:\n",
        "\n",
        "```python\n",
        "# Function with no parameters\n",
        "def say_hello():\n",
        "    return \"Hello, World!\"\n",
        "\n",
        "# Function with default parameters\n",
        "def greet(name=\"Guest\"):\n",
        "    return f\"Hello, {name}!\"\n",
        "\n",
        "# Function with variable number of arguments\n",
        "def sum_all(*args):\n",
        "    return sum(args)\n",
        "\n",
        "# Function with keyword-only arguments\n",
        "def describe_pet(*, name, species):\n",
        "    return f\"{name} is a {species}.\"\n",
        "```"
      ],
      "metadata": {
        "id": "nyYLy1T3H87T"
      }
    },
    {
      "cell_type": "code",
      "execution_count": 4,
      "metadata": {
        "colab": {
          "base_uri": "https://localhost:8080/"
        },
        "id": "QvvfDLlxCnbK",
        "outputId": "755a97bb-4d1c-4ad6-ad83-6ec54f485c37"
      },
      "outputs": [
        {
          "output_type": "stream",
          "name": "stdout",
          "text": [
            "Tell me your name: John\n",
            "My name is John\n"
          ]
        }
      ],
      "source": [
        "# Defining a function\n",
        "\n",
        "# This function has one parameter that takes a string argument.\n",
        "def show_name(name):\n",
        "  print(\"My name is \" + name)\n",
        "\n",
        "my_name = input('Tell me your name: ')\n",
        "show_name(my_name) # An argument is a specific value that is passed to a parameter."
      ]
    },
    {
      "cell_type": "code",
      "source": [
        "# A function with a local variable\n",
        "import random\n",
        "\n",
        "def show_name_rand_num(name):\n",
        "  rand_num = random.randint(1, 10)\n",
        "  print(\"My name is \" + name + \" and my random number is {}.\".format(rand_num))\n",
        "\n",
        "my_name = input('Tell me your name: ')\n",
        "show_name_rand_num(my_name)\n",
        "\n",
        "try:\n",
        "  print(rand_num) #because rand_num is a local variable contained in the function it throws an error, which gets handled in the try-except statement.\n",
        "except NameError:\n",
        "  print(\"rand_num is not defined\")\n",
        "\n",
        "rand_num = random.randint(1, 10)\n",
        "print(rand_num) #Now that rand_num is defined it will work."
      ],
      "metadata": {
        "colab": {
          "base_uri": "https://localhost:8080/"
        },
        "id": "1ZQcdAHucfSw",
        "outputId": "9f98332e-4e95-432f-eaa2-a3945f39db0e"
      },
      "execution_count": 8,
      "outputs": [
        {
          "output_type": "stream",
          "name": "stdout",
          "text": [
            "Tell me your name: Kirk\n",
            "My name is Kirk and my random number is 3.\n",
            "rand_num is not defined\n",
            "1\n"
          ]
        }
      ]
    },
    {
      "cell_type": "markdown",
      "source": [
        "# Empty Functions and the pass Keyword\n",
        "### Empty Functions\n",
        "An empty function is a function that doesn't perform any operations. You might create an empty function as a placeholder while planning or developing your code. This allows you to define the function's structure without implementing its functionality immediately.\n",
        "\n",
        "### The pass Keyword\n",
        "The pass keyword is used to indicate that nothing happens in the function. It's a way to write a syntactically correct function that does nothing. This is useful when you need to define a function but haven't decided what it should do yet.\n",
        "\n",
        "Example:\n",
        "```python\n",
        "def placeholder_function():\n",
        "    pass\n",
        "```\n",
        "- In this example, placeholder_function is defined but doesn't perform any actions. The pass keyword ensures that the function is syntactically correct and can be called without causing errors.\n",
        "\n",
        "### Why pass is Needed\n",
        "- Placeholder: It allows you to create placeholders for functions, classes, or loops that you plan to implement later.\n",
        "- Avoiding Errors: It prevents syntax errors when defining an empty function, class, or loop.\n",
        "- Code Structure: It helps maintain the structure of your code while you work on other parts of your program.\n",
        "### Example in a Class:\n",
        "```python\n",
        "class MyClass:\n",
        "    def method1(self):\n",
        "        pass\n",
        "\n",
        "    def method2(self):\n",
        "        print(\"Method 2 is implemented\")\n",
        "\n",
        "# Creating an instance of MyClass\n",
        "obj = MyClass()\n",
        "obj.method1()  # Does nothing\n",
        "obj.method2()  # Output: Method 2 is implemented\n",
        "```\n",
        "- In this example, method1 is a placeholder method that does nothing, while method2 is implemented and performs an action."
      ],
      "metadata": {
        "id": "25WpJx6thfWJ"
      }
    },
    {
      "cell_type": "code",
      "source": [
        "# Using pass key word to create an empty function\n",
        "def do_nothing(do=True):\n",
        "  if do==True:\n",
        "    print('Did something')\n",
        "  else:\n",
        "    pass\n",
        "\n",
        "do_nothing()\n",
        "print('space')\n",
        "do_nothing(False)\n",
        "print('space')\n",
        "do_nothing(True)"
      ],
      "metadata": {
        "colab": {
          "base_uri": "https://localhost:8080/"
        },
        "id": "vxkOjNH-es1A",
        "outputId": "d1b95ab1-dbce-4aac-9b81-c65e456c5e69"
      },
      "execution_count": 14,
      "outputs": [
        {
          "output_type": "stream",
          "name": "stdout",
          "text": [
            "Did something\n",
            "space\n",
            "space\n",
            "Did something\n"
          ]
        }
      ]
    },
    {
      "cell_type": "markdown",
      "source": [
        "*args and **kwargs\n",
        "\n",
        "*args\n",
        "\n",
        "*args allows you to pass a variable number of positional arguments to a function. It collects extra positional arguments as a tuple. This is useful when you don't know beforehand how many arguments will be passed to your function.\n",
        "\n",
        "Example:\n",
        "```python\n",
        "def sum_all(*args):\n",
        "    return sum(args)\n",
        "\n",
        "result = sum_all(1, 2, 3, 4)  # result is 10\n",
        "```\n",
        "- In this example, *args collects 1, 2, 3, 4 into a tuple (1, 2, 3, 4) and then sums them up.\n",
        "\n",
        "**kwargs\n",
        "\n",
        "**kwargs allows you to pass a variable number of keyword arguments to a function. It collects extra keyword arguments as a dictionary. This is useful when you want to handle named arguments that you didn't define in advance.\n",
        "\n",
        "Example:\n",
        "```python\n",
        "def print_info(**kwargs):\n",
        "    for key, value in kwargs.items():\n",
        "        print(f\"{key}: {value}\")\n",
        "\n",
        "print_info(name=\"Alice\", age=30, city=\"New York\")\n",
        "```\n",
        "- In this example, **kwargs collects name=\"Alice\", age=30, and city=\"New York\" into a dictionary {'name': 'Alice', 'age': 30, 'city': 'New York'} and then prints each key-value pair.\n",
        "\n",
        "Combining *args and **kwargs\n",
        "You can use both *args and **kwargs in the same function to accept both positional and keyword arguments.\n",
        "\n",
        "Example:\n",
        "```python\n",
        "def display_info(*args, **kwargs):\n",
        "    for arg in args:\n",
        "        print(f\"arg: {arg}\")\n",
        "    for key, value in kwargs.items():\n",
        "        print(f\"{key}: {value}\")\n",
        "\n",
        "display_info(1, 2, 3, name=\"Alice\", age=30)\n",
        "```\n",
        "- In this example, *args collects 1, 2, 3 and **kwargs collects name=\"Alice\" and age=30."
      ],
      "metadata": {
        "id": "MPpzY7nZf1bW"
      }
    },
    {
      "cell_type": "markdown",
      "source": [
        "# Default Values in Functions\n",
        "Default values allow you to specify a default value for one or more parameters in a function. If the caller does not provide a value for a parameter with a default value, the function uses the default.\n",
        "\n",
        "Syntax\n",
        "To define a function with default values, assign a value to the parameter in the function definition:\n",
        "```python\n",
        "def function_name(parameter=default_value):\n",
        "    # code block\n",
        "    return value\n",
        "```\n",
        "Example\n",
        "Here's an example of a function with default values:\n",
        "```python\n",
        "def greet(name=\"Guest\"):\n",
        "    return f\"Hello, {name}!\"\n",
        "```\n",
        "- In this example, if no argument is provided for name, the function will use \"Guest\" as the default value.\n",
        "\n",
        "Calling the function with and without an argument:\n",
        "```python\n",
        "print(greet())          # Output: Hello, Guest!\n",
        "print(greet(\"Alice\"))   # Output: Hello, Alice!\n",
        "```\n",
        "Multiple Default Values\n",
        "You can also define multiple parameters with default values:\n",
        "```python\n",
        "def describe_pet(name, species=\"dog\"):\n",
        "    return f\"{name} is a {species}.\"\n",
        "\n",
        "print(describe_pet(\"Buddy\"))            # Output: Buddy is a dog.\n",
        "print(describe_pet(\"Whiskers\", \"cat\"))  # Output: Whiskers is a cat.\n",
        "```\n",
        "- In this example, species has a default value of \"dog\", but you can override it by providing a different value.\n",
        "\n",
        "Important Notes:\n",
        "Default values must come after any non-default parameters in the function definition.\n",
        "If you mix positional and keyword arguments when calling a function, positional arguments must come first.\n",
        "Example:\n",
        "```python\n",
        "def example(a, b=2, c=3):\n",
        "    return a + b + c\n",
        "\n",
        "print(example(1))          # Output: 6 (1 + 2 + 3)\n",
        "print(example(1, 4))       # Output: 8 (1 + 4 + 3)\n",
        "print(example(1, c=5))     # Output: 8 (1 + 2 + 5)\n",
        "```\n",
        "- In this example, b and c have default values, but you can override them by providing new values."
      ],
      "metadata": {
        "id": "C0P8oxn9gz9b"
      }
    },
    {
      "cell_type": "code",
      "source": [
        "def num_gt_zero(x):\n",
        "  if x > 0:\n",
        "    return 1\n",
        "  else:\n",
        "    return 0\n",
        "\n",
        "print(num_gt_zero(5))\n",
        "print(num_gt_zero(-5))"
      ],
      "metadata": {
        "colab": {
          "base_uri": "https://localhost:8080/"
        },
        "id": "e5UhP3p4iOIy",
        "outputId": "b1528114-1a95-43b7-9cc7-42bfcb763959"
      },
      "execution_count": 15,
      "outputs": [
        {
          "output_type": "stream",
          "name": "stdout",
          "text": [
            "1\n",
            "0\n"
          ]
        }
      ]
    },
    {
      "cell_type": "markdown",
      "source": [
        "### `return` vs. `yield`\n",
        "\n",
        "#### `return`\n",
        "- **Purpose**: The `return` statement is used to exit a function and send a value back to the caller.\n",
        "- **Behavior**: When `return` is executed, the function terminates immediately, and the specified value is returned.\n",
        "- **Usage**: Commonly used in functions that perform a single computation and return a result.\n",
        "\n",
        "**Example:**\n",
        "\n",
        "```python\n",
        "def add(a, b):\n",
        "    return a + b\n",
        "\n",
        "result = add(2, 3)  # result is 5\n",
        "```\n",
        "\n",
        "In this example, `return` sends the sum of `a` and `b` back to the caller and exits the function.\n",
        "\n",
        "#### `yield`\n",
        "- **Purpose**: The `yield` statement is used to produce a value and pause the function, saving its state for later resumption.\n",
        "- **Behavior**: When `yield` is executed, the function's state is saved, and the value is returned to the caller. The function can be resumed later from where it left off.\n",
        "- **Usage**: Commonly used in generator functions to produce a sequence of values over time.\n",
        "\n",
        "**Example:**\n",
        "\n",
        "```python\n",
        "def generate_numbers():\n",
        "    for i in range(5):\n",
        "        yield i\n",
        "\n",
        "gen = generate_numbers()\n",
        "for num in gen:\n",
        "    print(num)\n",
        "```\n",
        "\n",
        "In this example, `yield` produces numbers from 0 to 4 one at a time. The function pauses after each `yield` and resumes on the next iteration.\n",
        "\n",
        "#### Key Differences\n",
        "- **Function Termination**: `return` terminates the function, while `yield` pauses the function and can resume later.\n",
        "- **State Preservation**: `yield` preserves the function's state between calls, allowing it to produce a series of values over time.\n",
        "- **Use Cases**: `return` is used for single-result functions, while `yield` is used for generators that produce multiple values."
      ],
      "metadata": {
        "id": "qNK96GbwjXMi"
      }
    },
    {
      "cell_type": "code",
      "source": [
        "# Using print\n",
        "def generate_numbers():\n",
        "    for i in range(5):\n",
        "        print(i)\n",
        "\n",
        "generate_numbers()\n",
        "# This approach just prints numbers and does not return values."
      ],
      "metadata": {
        "colab": {
          "base_uri": "https://localhost:8080/"
        },
        "id": "fad9JMRAlXYJ",
        "outputId": "aba818ac-6a51-469e-f96a-bf9d583ce4e0"
      },
      "execution_count": 18,
      "outputs": [
        {
          "output_type": "stream",
          "name": "stdout",
          "text": [
            "0\n",
            "1\n",
            "2\n",
            "3\n",
            "4\n"
          ]
        }
      ]
    },
    {
      "cell_type": "code",
      "source": [
        "#Using return\n",
        "def generate_numbers():\n",
        "    for i in range(5):\n",
        "        return i\n",
        "\n",
        "print(generate_numbers()) #\n",
        "# This approach only returns the first value and then stops. It does not work."
      ],
      "metadata": {
        "colab": {
          "base_uri": "https://localhost:8080/"
        },
        "id": "Tl2mTSVQltP9",
        "outputId": "85e01b75-a04f-460b-f128-54554df4d336"
      },
      "execution_count": 19,
      "outputs": [
        {
          "output_type": "stream",
          "name": "stdout",
          "text": [
            "0\n"
          ]
        }
      ]
    },
    {
      "cell_type": "code",
      "source": [
        "#Using yield\n",
        "def generate_numbers():\n",
        "    for i in range(5):\n",
        "        yield i\n",
        "\n",
        "for num in generate_numbers(): #This notation seems strange, but in python you can iterate through a function when using 'yield' instead of 'return'.\n",
        "    print(num)\n",
        "##This approach returns the set of values."
      ],
      "metadata": {
        "colab": {
          "base_uri": "https://localhost:8080/"
        },
        "id": "Hj9H3yufjeqc",
        "outputId": "ced674a5-f32b-4147-84a7-f6048098839c"
      },
      "execution_count": 21,
      "outputs": [
        {
          "output_type": "stream",
          "name": "stdout",
          "text": [
            "0\n",
            "1\n",
            "2\n",
            "3\n",
            "4\n"
          ]
        }
      ]
    },
    {
      "cell_type": "markdown",
      "source": [
        "Built in functions of python\n",
        "- print()\n",
        "- int()\n",
        "- str()\n",
        "- type()\n",
        "- range()\n",
        "- pow()\n",
        "- exp()\n",
        "\n",
        "\n",
        "\n"
      ],
      "metadata": {
        "id": "5wQFpNiiqn8c"
      }
    },
    {
      "cell_type": "code",
      "source": [
        "print('Hello')\n",
        "num='10'\n",
        "print(type(num))\n",
        "print(int(num))\n",
        "num = int(num)\n",
        "print(type(num))\n",
        "for i in [0,1,2,3,4,5,6,7,8,9]:\n",
        "  print(i)\n",
        "for i in range(10):\n",
        "  print(i)\n",
        "print(pow(2,3))"
      ],
      "metadata": {
        "colab": {
          "base_uri": "https://localhost:8080/"
        },
        "id": "PM7YBzFdrtBV",
        "outputId": "63f178cf-2400-40b1-ab26-86f286b1f360"
      },
      "execution_count": 22,
      "outputs": [
        {
          "output_type": "stream",
          "name": "stdout",
          "text": [
            "Hello\n",
            "<class 'str'>\n",
            "10\n",
            "<class 'int'>\n",
            "0\n",
            "1\n",
            "2\n",
            "3\n",
            "4\n",
            "5\n",
            "6\n",
            "7\n",
            "8\n",
            "9\n",
            "0\n",
            "1\n",
            "2\n",
            "3\n",
            "4\n",
            "5\n",
            "6\n",
            "7\n",
            "8\n",
            "9\n",
            "8\n"
          ]
        }
      ]
    },
    {
      "cell_type": "markdown",
      "source": [
        "### Recursion in Python\n",
        "\n",
        "#### What is Recursion?\n",
        "Recursion is a programming technique where a function calls itself to solve a problem. A recursive function typically breaks down a problem into smaller, more manageable sub-problems of the same type, solving each sub-problem with the same function.\n",
        "\n",
        "#### Key Components of Recursion\n",
        "1. **Base Case**: The condition under which the recursion stops. It prevents infinite recursion and provides a simple, direct solution to the smallest instance of the problem.\n",
        "2. **Recursive Case**: The part of the function where the function calls itself with a modified argument, moving towards the base case.\n",
        "\n",
        "#### Example: Factorial Function\n",
        "The factorial of a non-negative integer \\( n \\) is the product of all positive integers less than or equal to \\( n \\). It's commonly denoted as \\( n! \\).\n",
        "\n",
        "**Recursive Implementation:**\n",
        "\n",
        "```python\n",
        "def factorial(n):\n",
        "    if n == 0:\n",
        "        return 1  # Base case\n",
        "    else:\n",
        "        return n * factorial(n - 1)  # Recursive case\n",
        "\n",
        "result = factorial(5)  # result is 120\n",
        "```\n",
        "\n",
        "In this example:\n",
        "- The base case is when \\( n \\) is 0, returning 1.\n",
        "- The recursive case calls `factorial(n - 1)` and multiplies the result by \\( n \\).\n",
        "\n",
        "#### Example: Fibonacci Sequence\n",
        "The Fibonacci sequence is a series of numbers where each number is the sum of the two preceding ones, usually starting with 0 and 1.\n",
        "\n",
        "**Recursive Implementation:**\n",
        "\n",
        "```python\n",
        "def fibonacci(n):\n",
        "    if n <= 1:\n",
        "        return n  # Base case\n",
        "    else:\n",
        "        return fibonacci(n - 1) + fibonacci(n - 2)  # Recursive case\n",
        "\n",
        "result = fibonacci(6)  # result is 8\n",
        "```\n",
        "\n",
        "In this example:\n",
        "- The base case returns \\( n \\) if \\( n \\) is 0 or 1.\n",
        "- The recursive case calls `fibonacci(n - 1)` and `fibonacci(n - 2)` and sums the results.\n",
        "\n",
        "#### Advantages of Recursion\n",
        "- **Simplifies Code**: Makes code easier to read and write for problems that have a natural recursive structure.\n",
        "- **Modularity**: Breaks down complex problems into simpler sub-problems.\n",
        "\n",
        "#### Disadvantages of Recursion\n",
        "- **Performance**: Can be less efficient and use more memory due to the overhead of multiple function calls.\n",
        "- **Stack Overflow**: Deep recursion can lead to stack overflow errors if the base case is not reached in a reasonable number of steps.\n",
        "\n",
        "#### Tail Recursion\n",
        "Tail recursion is a special case of recursion where the recursive call is the last operation in the function. Some languages optimize tail recursion to prevent stack overflow, but Python does not perform this optimization.\n",
        "\n",
        "**Example:**\n",
        "\n",
        "```python\n",
        "def tail_recursive_factorial(n, accumulator=1):\n",
        "    if n == 0:\n",
        "        return accumulator  # Base case\n",
        "    else:\n",
        "        return tail_recursive_factorial(n - 1, n * accumulator)  # Recursive case\n",
        "\n",
        "result = tail_recursive_factorial(5)  # result is 120\n",
        "```\n",
        "\n",
        "In this example, the recursive call is the last operation, and the function uses an accumulator to carry the result."
      ],
      "metadata": {
        "id": "0YUGn5QEsOIj"
      }
    }
  ]
}
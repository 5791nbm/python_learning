{
  "nbformat": 4,
  "nbformat_minor": 0,
  "metadata": {
    "colab": {
      "provenance": [],
      "authorship_tag": "ABX9TyOx3nbleGqBWYWeEkSU6YYj",
      "include_colab_link": true
    },
    "kernelspec": {
      "name": "python3",
      "display_name": "Python 3"
    },
    "language_info": {
      "name": "python"
    }
  },
  "cells": [
    {
      "cell_type": "markdown",
      "metadata": {
        "id": "view-in-github",
        "colab_type": "text"
      },
      "source": [
        "<a href=\"https://colab.research.google.com/github/5791nbm/python_learning/blob/main/01%20String%20Slicing.ipynb\" target=\"_parent\"><img src=\"https://colab.research.google.com/assets/colab-badge.svg\" alt=\"Open In Colab\"/></a>"
      ]
    },
    {
      "cell_type": "markdown",
      "source": [
        "# String Slicing\n",
        "String slicing is a technique used to extract a portion of a string by specifying a range of indices. This is useful for manipulating and accessing specific parts of a string.\n",
        "\n",
        "## Syntax\n",
        "The syntax for string slicing is string[start:stop:step], where:\n",
        "\n",
        "* start is the index where the slice begins (inclusive).\n",
        "* stop is the index where the slice ends (exclusive).\n",
        "* step is the interval between each index (optional).\n",
        "\n",
        "```\n",
        "Examples\n",
        "# Define a sample string\n",
        "sample_string = \"Hello, World!\"\n",
        "\n",
        "# Slice from index 0 to 5 (excluding 5)\n",
        "print(sample_string[0:5])  # Output: 'Hello'\n",
        "\n",
        "# Slice from index 7 to the end\n",
        "print(sample_string[7:])  # Output: 'World!'\n",
        "\n",
        "# Slice from the beginning to index 5 (excluding 5)\n",
        "print(sample_string[:5])  # Output: 'Hello'\n",
        "\n",
        "# Slice with a step of 2\n",
        "print(sample_string[::2])  # Output: 'Hlo ol!'\n",
        "\n",
        "# Slice with negative indices\n",
        "print(sample_string[-6:-1])  # Output: 'World'\n",
        "```\n",
        "Notes:\n",
        "* If start is omitted, the slice starts from the beginning of the string.\n",
        "* If stop is omitted, the slice goes to the end of the string.\n",
        "* If step is omitted, the default step is 1.\n",
        "* Negative indices can be used to slice from the end of the string."
      ],
      "metadata": {
        "id": "22WxcC94ybY4"
      }
    },
    {
      "cell_type": "code",
      "source": [
        "#Advanced string slicing, intergers as strings\n",
        "\n",
        "s = '0123456789'\n",
        "\n",
        "#array indecies - random indexes\n",
        "\n",
        "print(s[0])\n",
        "print(s[2:7]) #substring, the first index is included, but the last is excluded\n",
        "print(s[:6]) #python will start with index zero\n",
        "print(s[3:]) #python will include all remaining charaters, including the first index\n",
        "print(s[:]) #returns the entire string\n",
        "\n",
        "#We can also set the step size\n",
        "print(s[1:8:2]) #returns every other string charater, left to right\n",
        "print(s[8:1:-2]) #returns every other string charater, right to left\n",
        "print(s[::-1]) #reverse a string\n"
      ],
      "metadata": {
        "id": "Vh3p94VRYk4s",
        "colab": {
          "base_uri": "https://localhost:8080/"
        },
        "outputId": "ed286c58-99cf-49ff-b91f-4bcd09ae10b0"
      },
      "execution_count": null,
      "outputs": [
        {
          "output_type": "stream",
          "name": "stdout",
          "text": [
            "0\n",
            "23456\n",
            "012345\n",
            "3456789\n",
            "0123456789\n",
            "1357\n",
            "8642\n",
            "9876543210\n"
          ]
        }
      ]
    }
  ]
}
{
  "nbformat": 4,
  "nbformat_minor": 0,
  "metadata": {
    "colab": {
      "provenance": [],
      "authorship_tag": "ABX9TyNHzwzgjGRW0geOjesHisIU",
      "include_colab_link": true
    },
    "kernelspec": {
      "name": "python3",
      "display_name": "Python 3"
    },
    "language_info": {
      "name": "python"
    }
  },
  "cells": [
    {
      "cell_type": "markdown",
      "metadata": {
        "id": "view-in-github",
        "colab_type": "text"
      },
      "source": [
        "<a href=\"https://colab.research.google.com/github/5791nbm/python_learning/blob/main/05_Loops.ipynb\" target=\"_parent\"><img src=\"https://colab.research.google.com/assets/colab-badge.svg\" alt=\"Open In Colab\"/></a>"
      ]
    },
    {
      "cell_type": "markdown",
      "source": [
        "# Loops in Python\n",
        "Loops are used to execute a block of code repeatedly as long as a condition is met. They help automate repetitive tasks.\n",
        "\n",
        "## for Loop\n",
        "The for loop iterates over a sequence (such as a list, tuple, string, or range) and executes a block of code for each item in the sequence.\n",
        "```\n",
        "# Example: Iterating over a list\n",
        "fruits = ['apple', 'banana', 'cherry']\n",
        "for fruit in fruits:\n",
        "    print(fruit)\n",
        "```\n",
        "## while Loop\n",
        "The while loop repeatedly executes a block of code as long as a specified condition is True.\n",
        "```\n",
        "# Example: Using a while loop\n",
        "count = 0\n",
        "while count < 5:\n",
        "    print(count)\n",
        "    count += 1\n",
        "```\n",
        "## Nested Loops\n",
        "You can nest loops within each other to perform more complex iterations. Both for and while loops can be nested.\n",
        "```\n",
        "# Example: Nested for loops\n",
        "for i in range(3):\n",
        "    for j in range(2):\n",
        "        print(f\"i = {i}, j = {j}\")\n",
        "```\n",
        "```\n",
        "# Example: Nested while loops\n",
        "i = 0\n",
        "while i < 3:\n",
        "    j = 0\n",
        "    while j < 2:\n",
        "        print(f\"i = {i}, j = {j}\")\n",
        "        j += 1\n",
        "    i += 1\n",
        "```\n",
        "### Notes\n",
        "* Be careful with while loops to avoid infinite loops. Ensure the condition will eventually become False.\n",
        "* You can use the break statement to exit a loop prematurely and the continue statement to skip the current iteration and proceed to the next one.\n",
        "```\n",
        "# Example: Using break and continue\n",
        "for i in range(5):\n",
        "    if i == 3:\n",
        "        break  # Exit the loop when i is 3\n",
        "    if i == 1:\n",
        "        continue  # Skip the iteration when i is 1\n",
        "    print(i)\n",
        "```\n"
      ],
      "metadata": {
        "id": "COm6ta6T0mCx"
      }
    },
    {
      "cell_type": "code",
      "execution_count": 1,
      "metadata": {
        "colab": {
          "base_uri": "https://localhost:8080/"
        },
        "id": "dZ2LrOPkznJp",
        "outputId": "00bdff34-f999-4488-fc18-3c07c078701e"
      },
      "outputs": [
        {
          "output_type": "stream",
          "name": "stdout",
          "text": [
            "0\n",
            "1\n",
            "2\n",
            "3\n",
            "4\n"
          ]
        }
      ],
      "source": [
        "for number in range(5):\n",
        "    print(number)"
      ]
    }
  ]
}
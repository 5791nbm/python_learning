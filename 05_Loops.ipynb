{
  "nbformat": 4,
  "nbformat_minor": 0,
  "metadata": {
    "colab": {
      "provenance": [],
      "authorship_tag": "ABX9TyOb1v3T82mzT6w0EkAs9Cx2",
      "include_colab_link": true
    },
    "kernelspec": {
      "name": "python3",
      "display_name": "Python 3"
    },
    "language_info": {
      "name": "python"
    }
  },
  "cells": [
    {
      "cell_type": "markdown",
      "metadata": {
        "id": "view-in-github",
        "colab_type": "text"
      },
      "source": [
        "<a href=\"https://colab.research.google.com/github/5791nbm/python_learning/blob/main/05_Loops.ipynb\" target=\"_parent\"><img src=\"https://colab.research.google.com/assets/colab-badge.svg\" alt=\"Open In Colab\"/></a>"
      ]
    },
    {
      "cell_type": "markdown",
      "source": [
        "# Loops in Python\n",
        "Loops are used to execute a block of code repeatedly as long as a condition is met. They help automate repetitive tasks.\n",
        "\n",
        "## for Loop\n",
        "The for loop iterates over a sequence (such as a list, tuple, string, or range) and executes a block of code for each item in the sequence.\n",
        "```\n",
        "# Example: Iterating over a list\n",
        "fruits = ['apple', 'banana', 'cherry']\n",
        "for fruit in fruits:\n",
        "    print(fruit)\n",
        "```\n",
        "## while Loop\n",
        "The while loop repeatedly executes a block of code as long as a specified condition is True.\n",
        "```\n",
        "# Example: Using a while loop\n",
        "count = 0\n",
        "while count < 5:\n",
        "    print(count)\n",
        "    count += 1\n",
        "```\n",
        "## Nested Loops\n",
        "You can nest loops within each other to perform more complex iterations. Both for and while loops can be nested.\n",
        "```\n",
        "# Example: Nested for loops\n",
        "for i in range(3):\n",
        "    for j in range(2):\n",
        "        print(f\"i = {i}, j = {j}\")\n",
        "```\n",
        "```\n",
        "# Example: Nested while loops\n",
        "i = 0\n",
        "while i < 3:\n",
        "    j = 0\n",
        "    while j < 2:\n",
        "        print(f\"i = {i}, j = {j}\")\n",
        "        j += 1\n",
        "    i += 1\n",
        "```\n",
        "### Notes\n",
        "* Be careful with while loops to avoid infinite loops. Ensure the condition will eventually become False.\n",
        "* You can use the break statement to exit a loop prematurely and the continue statement to skip the current iteration and proceed to the next one.\n",
        "```\n",
        "# Example: Using break and continue\n",
        "for i in range(5):\n",
        "    if i == 3:\n",
        "        break  # Exit the loop when i is 3\n",
        "    if i == 1:\n",
        "        continue  # Skip the iteration when i is 1\n",
        "    print(i)\n",
        "```\n"
      ],
      "metadata": {
        "id": "COm6ta6T0mCx"
      }
    },
    {
      "cell_type": "code",
      "execution_count": null,
      "metadata": {
        "colab": {
          "base_uri": "https://localhost:8080/"
        },
        "id": "dZ2LrOPkznJp",
        "outputId": "14b050d2-7f4a-4d89-f6b2-0fd3ee620b77"
      },
      "outputs": [
        {
          "output_type": "stream",
          "name": "stdout",
          "text": [
            "0\n",
            "1\n",
            "2\n",
            "3\n",
            "4\n",
            "\n",
            "5\n",
            "6\n",
            "7\n",
            "8\n",
            "9\n",
            "\n",
            "2\n",
            "4\n",
            "6\n",
            "8\n",
            "10\n",
            "\n",
            "5\n",
            "4\n",
            "3\n",
            "2\n",
            "1\n",
            "\n",
            "M\n",
            "a\n",
            "t\n",
            "t\n",
            "h\n",
            "e\n",
            "w\n"
          ]
        }
      ],
      "source": [
        "for number in range(5): #basic loop\n",
        "    print(number)\n",
        "print()\n",
        "\n",
        "for number in range(5, 10): #set the loop range\n",
        "    print(number)\n",
        "print()\n",
        "\n",
        "for number in range(2, 11, 2): #set range and increment\n",
        "    print(number)\n",
        "print()\n",
        "\n",
        "for number in range(5, 0, -1): #loop backwards\n",
        "    print(number)\n",
        "print()\n",
        "\n",
        "name = 'Matthew' #looping through characters on a string\n",
        "for letter in name:\n",
        "    print(letter)"
      ]
    },
    {
      "cell_type": "code",
      "source": [
        "name = 'Matthew' #looping through characters on a string with while loop.\n",
        "print(\"The string length is: \", len(name))\n",
        "letter_index = 0\n",
        "while letter_index < len(name):\n",
        "    letter = name[letter_index]\n",
        "    print(letter, \" \", letter_index)\n",
        "    letter_index += 1\n",
        "print()\n",
        "\n",
        "counter = 0\n",
        "while counter < 5:\n",
        "    print(counter)\n",
        "    counter += 1\n",
        "print()\n",
        "\n",
        "counter = 0\n",
        "while counter < 10:\n",
        "    print(counter)\n",
        "    counter += 2"
      ],
      "metadata": {
        "colab": {
          "base_uri": "https://localhost:8080/"
        },
        "id": "G0vCCNh53WXR",
        "outputId": "b1a9f0a2-0930-452c-ee3d-9855e66abf2f"
      },
      "execution_count": null,
      "outputs": [
        {
          "output_type": "stream",
          "name": "stdout",
          "text": [
            "The string length is:  7\n",
            "M   0\n",
            "a   1\n",
            "t   2\n",
            "t   3\n",
            "h   4\n",
            "e   5\n",
            "w   6\n",
            "\n",
            "0\n",
            "1\n",
            "2\n",
            "3\n",
            "4\n",
            "\n",
            "0\n",
            "2\n",
            "4\n",
            "6\n",
            "8\n"
          ]
        }
      ]
    },
    {
      "cell_type": "markdown",
      "source": [
        "Exercise: calculating the average\n",
        "Calculating the Average Exercise\n",
        "\n",
        "Construct an application that calculates the average of the first 10 items - starting with 1. So [1,2,3,4,5,6,7,8,9,10] these are the numbers you have to consider - with loops of course :)"
      ],
      "metadata": {
        "id": "qV2d4-DO42hx"
      }
    },
    {
      "cell_type": "code",
      "source": [
        "#with for loop\n",
        "number = 0\n",
        "for counter in range(1, 11):\n",
        "    number += counter\n",
        "print(\"For loop example | The average is: \", number/counter)\n",
        "\n",
        "#with while loop\n",
        "number = 0\n",
        "counter = 1\n",
        "while counter <= 11:\n",
        "    number += counter\n",
        "    counter += 1\n",
        "print(\"While loop example | The average is: \", number/counter)"
      ],
      "metadata": {
        "colab": {
          "base_uri": "https://localhost:8080/"
        },
        "id": "QHs7SxNX41rv",
        "outputId": "2ecaded6-5c85-4886-def1-bceed4fa18ed"
      },
      "execution_count": null,
      "outputs": [
        {
          "output_type": "stream",
          "name": "stdout",
          "text": [
            "For loop example | The average is:  5.5\n",
            "While loop example | The average is:  5.5\n"
          ]
        }
      ]
    },
    {
      "cell_type": "code",
      "source": [
        "#Nested loops\n",
        "for i in range(3):\n",
        "    for j in range(2):\n",
        "        print(f\"i = {i}, j = {j}\")\n",
        "print()\n",
        "\n",
        "#times table\n",
        "for i in range(1, 5):\n",
        "    for j in range(1, 5):\n",
        "        print(f\"{i} x {j} = {i*j}\")\n",
        "#"
      ],
      "metadata": {
        "colab": {
          "base_uri": "https://localhost:8080/"
        },
        "id": "trWDMoJn7XJP",
        "outputId": "250c9dd5-09ee-43ba-84e9-4733624fd70b"
      },
      "execution_count": null,
      "outputs": [
        {
          "output_type": "stream",
          "name": "stdout",
          "text": [
            "i = 0, j = 0\n",
            "i = 0, j = 1\n",
            "i = 1, j = 0\n",
            "i = 1, j = 1\n",
            "i = 2, j = 0\n",
            "i = 2, j = 1\n",
            "\n",
            "1 x 1 = 1\n",
            "1 x 2 = 2\n",
            "1 x 3 = 3\n",
            "1 x 4 = 4\n",
            "2 x 1 = 2\n",
            "2 x 2 = 4\n",
            "2 x 3 = 6\n",
            "2 x 4 = 8\n",
            "3 x 1 = 3\n",
            "3 x 2 = 6\n",
            "3 x 3 = 9\n",
            "3 x 4 = 12\n",
            "4 x 1 = 4\n",
            "4 x 2 = 8\n",
            "4 x 3 = 12\n",
            "4 x 4 = 16\n"
          ]
        }
      ]
    },
    {
      "cell_type": "code",
      "source": [
        "#Enumeration\n",
        "\n",
        "for index, value in enumerate(range(2,11,2)):\n",
        "    print(index, value)\n",
        "print()\n",
        "\n",
        "animals = ['cat', 'dog', 'bird']\n",
        "for index, animal in enumerate(animals):\n",
        "    print(index, animal)\n",
        "print()\n",
        "\n",
        "print(animals)\n",
        "print(animals[1])\n",
        "print(animals[1][2])"
      ],
      "metadata": {
        "colab": {
          "base_uri": "https://localhost:8080/"
        },
        "id": "4kLCNF--9PX2",
        "outputId": "05707cd6-063f-4d63-a4fb-e41bce1d346c"
      },
      "execution_count": null,
      "outputs": [
        {
          "output_type": "stream",
          "name": "stdout",
          "text": [
            "0 2\n",
            "1 4\n",
            "2 6\n",
            "3 8\n",
            "4 10\n",
            "\n",
            "0 cat\n",
            "1 dog\n",
            "2 bird\n",
            "\n",
            "['cat', 'dog', 'bird']\n",
            "dog\n",
            "g\n"
          ]
        }
      ]
    },
    {
      "cell_type": "markdown",
      "source": [
        "# BREAK and CONTINUE keywords\n",
        "## break\n",
        "The break keyword is used to exit a loop prematurely. When break is encountered, the loop terminates immediately, and the program continues with the next statement after the loop.\n",
        "```\n",
        "# Example: Using break in a for loop\n",
        "for i in range(5):\n",
        "    if i == 3:\n",
        "        break  # Exit the loop when i is 3\n",
        "    print(i)\n",
        "# Output: 0, 1, 2\n",
        "\n",
        "# Example: Using break in a while loop\n",
        "count = 0\n",
        "while count < 5:\n",
        "    if count == 3:\n",
        "        break  # Exit the loop when count is 3\n",
        "    print(count)\n",
        "    count += 1\n",
        "# Output: 0, 1, 2\n",
        "```\n",
        "## continue\n",
        "The continue keyword is used to skip the current iteration of a loop and proceed to the next iteration. When continue is encountered, the remaining code within the loop for that iteration is skipped, and the loop moves to the next iteration.\n",
        "```\n",
        "# Example: Using continue in a for loop\n",
        "for i in range(5):\n",
        "    if i == 2:\n",
        "        continue  # Skip the iteration when i is 2\n",
        "    print(i)\n",
        "# Output: 0, 1, 3, 4\n",
        "\n",
        "# Example: Using continue in a while loop\n",
        "count = 0\n",
        "while count < 5:\n",
        "    count += 1\n",
        "    if count == 3:\n",
        "        continue  # Skip the iteration when count is 3\n",
        "    print(count)\n",
        "# Output: 1, 2, 4, 5\n",
        "```\n",
        "## Notes\n",
        "* **break** is useful for terminating loops early based on a condition.\n",
        "* **continue** is useful for skipping specific iterations based on a condition."
      ],
      "metadata": {
        "id": "gZFCYISMbXX0"
      }
    },
    {
      "cell_type": "code",
      "source": [
        "counter = 0\n",
        "while True:\n",
        "  if counter == 5:\n",
        "    break\n",
        "  print(counter)\n",
        "  counter += 1\n",
        ""
      ],
      "metadata": {
        "id": "SSqd1xpEcD1c",
        "outputId": "7de8444c-9016-4bdf-a27e-f4df73700bdd",
        "colab": {
          "base_uri": "https://localhost:8080/"
        }
      },
      "execution_count": 7,
      "outputs": [
        {
          "output_type": "stream",
          "name": "stdout",
          "text": [
            "0\n",
            "1\n",
            "2\n",
            "3\n",
            "4\n"
          ]
        }
      ]
    },
    {
      "cell_type": "code",
      "source": [
        "for i in range(11):\n",
        "  if i%2 == 1:\n",
        "    continue\n",
        "  print(i)"
      ],
      "metadata": {
        "id": "bX35vrdscqCl",
        "outputId": "8711e1db-173a-4de3-cc54-96eb08179fb3",
        "colab": {
          "base_uri": "https://localhost:8080/"
        }
      },
      "execution_count": 15,
      "outputs": [
        {
          "output_type": "stream",
          "name": "stdout",
          "text": [
            "0\n",
            "2\n",
            "4\n",
            "6\n",
            "8\n",
            "10\n"
          ]
        }
      ]
    },
    {
      "cell_type": "markdown",
      "source": [
        "# Calculating a fibonacci sequence\n",
        "### f(n) = f(n-1) + f(n-2)"
      ],
      "metadata": {
        "id": "YYf2sx66eOcv"
      }
    },
    {
      "cell_type": "code",
      "source": [
        "# With a for loop\n",
        "a, b = 0, 1\n",
        "for _ in range(10):\n",
        "    print(a)\n",
        "    a, b = b, a+b"
      ],
      "metadata": {
        "id": "64lfn7AaeXh_",
        "outputId": "f3551856-a926-435e-815e-050608495928",
        "colab": {
          "base_uri": "https://localhost:8080/"
        }
      },
      "execution_count": 22,
      "outputs": [
        {
          "output_type": "stream",
          "name": "stdout",
          "text": [
            "0\n",
            "1\n",
            "1\n",
            "2\n",
            "3\n",
            "5\n",
            "8\n",
            "13\n",
            "21\n",
            "34\n"
          ]
        }
      ]
    },
    {
      "cell_type": "code",
      "source": [
        "# With a while loop\n",
        "a, b = 0, 1\n",
        "while a < 100:\n",
        "  print(a)\n",
        "  a, b = b, a+b"
      ],
      "metadata": {
        "id": "bWdHFiqQilz5",
        "outputId": "0c826cc2-a56e-40ce-94a5-ae59947ef028",
        "colab": {
          "base_uri": "https://localhost:8080/"
        }
      },
      "execution_count": 23,
      "outputs": [
        {
          "output_type": "stream",
          "name": "stdout",
          "text": [
            "0\n",
            "1\n",
            "1\n",
            "2\n",
            "3\n",
            "5\n",
            "8\n",
            "13\n",
            "21\n",
            "34\n",
            "55\n",
            "89\n"
          ]
        }
      ]
    }
  ]
}
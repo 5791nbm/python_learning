{
  "nbformat": 4,
  "nbformat_minor": 0,
  "metadata": {
    "colab": {
      "provenance": [],
      "authorship_tag": "ABX9TyN3UD9lDfP1GnScmjLBsHse",
      "include_colab_link": true
    },
    "kernelspec": {
      "name": "python3",
      "display_name": "Python 3"
    },
    "language_info": {
      "name": "python"
    }
  },
  "cells": [
    {
      "cell_type": "markdown",
      "metadata": {
        "id": "view-in-github",
        "colab_type": "text"
      },
      "source": [
        "<a href=\"https://colab.research.google.com/github/5791nbm/python_learning/blob/main/03%20Operators.ipynb\" target=\"_parent\"><img src=\"https://colab.research.google.com/assets/colab-badge.svg\" alt=\"Open In Colab\"/></a>"
      ]
    },
    {
      "cell_type": "markdown",
      "source": [
        "Python operators:\n",
        "\n"
      ],
      "metadata": {
        "id": "22WxcC94ybY4"
      }
    },
    {
      "cell_type": "code",
      "source": [
        "#Operators\n",
        "# arithmetic: +, -, *, /\n",
        "a = 5\n",
        "b = 3\n",
        "print(a + b) # addition\n",
        "print(a - b) # subtraction\n",
        "print(a * b) # multiplecation\n",
        "print(a ** b) # exponentiation\n",
        "print(a / b) #division\n",
        "print(a // b) # integer division, truncates, no remainder\n",
        "print(a % b) # modulus, returns the remainder\n",
        "print(round(a / b, 1)) # round to 2 decimal\n",
        "print()\n",
        "\n",
        "#comparative operators\n",
        "print(a == b) #equal to\n",
        "print(a != b) #not equal to\n",
        "print(a > b) #greater than\n",
        "print(a < b) #less than\n",
        "print(a >= b) #greater than or equal to\n",
        "print(a <= b) #less than or equal to\n",
        "print()\n",
        "\n",
        "#assignment operatots\n",
        "e = 10\n",
        "print(e)\n",
        "e += 5 #e = e + 5\n",
        "print(e)\n",
        "e -= 3 #e = e - 5\n",
        "print(e)\n",
        "e *= 2 #e = e * 2\n",
        "print(e)\n",
        "e /= 2 #e = e / 2\n",
        "print(e)\n",
        "e **= 2 #e = e ** 2\n",
        "print(e)"
      ],
      "metadata": {
        "colab": {
          "base_uri": "https://localhost:8080/"
        },
        "id": "P0x8dO0yPgBW",
        "outputId": "3a7b3693-895d-4b1a-fdaf-821db477ad7c"
      },
      "execution_count": null,
      "outputs": [
        {
          "output_type": "stream",
          "name": "stdout",
          "text": [
            "8\n",
            "2\n",
            "15\n",
            "125\n",
            "1.6666666666666667\n",
            "1\n",
            "2\n",
            "1.7\n",
            "\n",
            "False\n",
            "True\n",
            "True\n",
            "False\n",
            "True\n",
            "False\n",
            "\n",
            "10\n",
            "15\n",
            "12\n",
            "24\n",
            "12.0\n",
            "144.0\n"
          ]
        }
      ]
    }
  ]
}
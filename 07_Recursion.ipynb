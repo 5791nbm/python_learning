{
  "nbformat": 4,
  "nbformat_minor": 0,
  "metadata": {
    "colab": {
      "provenance": [],
      "authorship_tag": "ABX9TyN8RmYXsVBCaSXNSAzE+Asa",
      "include_colab_link": true
    },
    "kernelspec": {
      "name": "python3",
      "display_name": "Python 3"
    },
    "language_info": {
      "name": "python"
    }
  },
  "cells": [
    {
      "cell_type": "markdown",
      "metadata": {
        "id": "view-in-github",
        "colab_type": "text"
      },
      "source": [
        "<a href=\"https://colab.research.google.com/github/5791nbm/python_learning/blob/main/07_Recursion.ipynb\" target=\"_parent\"><img src=\"https://colab.research.google.com/assets/colab-badge.svg\" alt=\"Open In Colab\"/></a>"
      ]
    },
    {
      "cell_type": "markdown",
      "source": [
        "# Recursion in Python\n",
        "\n",
        "### What is recursion?\n",
        "Recursion in Python is a programming technique where a function calls itself to solve smaller instances of a problem until it reaches a base case that stops the recursion.\n",
        "\n",
        "Recursion and loops are both used to perform repetitive tasks in programming, but they do so differently:\n",
        "\n",
        "Loops (like for and while) repeat a block of code as long as a condition is true.\n",
        "Recursion involves a function calling itself to break a problem into smaller subproblems.\n",
        "They are conceptually related because any recursive algorithm can be rewritten using loops, and vice versa. However, recursion is often more elegant for problems like tree traversal or factorial calculation, while loops are generally more efficient in terms of memory and performance."
      ],
      "metadata": {
        "id": "dUrlMkVzy-DU"
      }
    },
    {
      "cell_type": "code",
      "execution_count": null,
      "metadata": {
        "id": "rnJ1xvT0y4Lj"
      },
      "outputs": [],
      "source": []
    }
  ]
}
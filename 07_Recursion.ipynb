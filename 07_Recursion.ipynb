{
  "nbformat": 4,
  "nbformat_minor": 0,
  "metadata": {
    "colab": {
      "provenance": [],
      "authorship_tag": "ABX9TyP595L5Bymd4LGWS8xzPiGV",
      "include_colab_link": true
    },
    "kernelspec": {
      "name": "python3",
      "display_name": "Python 3"
    },
    "language_info": {
      "name": "python"
    }
  },
  "cells": [
    {
      "cell_type": "markdown",
      "metadata": {
        "id": "view-in-github",
        "colab_type": "text"
      },
      "source": [
        "<a href=\"https://colab.research.google.com/github/5791nbm/python_learning/blob/main/07_Recursion.ipynb\" target=\"_parent\"><img src=\"https://colab.research.google.com/assets/colab-badge.svg\" alt=\"Open In Colab\"/></a>"
      ]
    },
    {
      "cell_type": "markdown",
      "source": [
        "# Recursion in Python\n",
        "\n",
        "### What is recursion?\n",
        "Recursion in Python is a programming technique where a function calls itself to solve smaller instances of a problem until it reaches a base case that stops the recursion.\n",
        "\n",
        "Recursion and loops are both used to perform repetitive tasks in programming, but they do so differently:\n",
        "\n",
        "Loops (like for and while) repeat a block of code as long as a condition is true.\n",
        "Recursion involves a function calling itself to break a problem into smaller subproblems.\n",
        "They are conceptually related because any recursive algorithm can be rewritten using loops, and vice versa. However, recursion is often more elegant for problems like tree traversal or factorial calculation, while loops are generally more efficient in terms of memory and performance."
      ],
      "metadata": {
        "id": "dUrlMkVzy-DU"
      }
    },
    {
      "cell_type": "code",
      "execution_count": 2,
      "metadata": {
        "colab": {
          "base_uri": "https://localhost:8080/"
        },
        "id": "rnJ1xvT0y4Lj",
        "outputId": "15fc9f31-988e-45b4-c3fe-403a16532e9e"
      },
      "outputs": [
        {
          "output_type": "stream",
          "name": "stdout",
          "text": [
            "15\n"
          ]
        }
      ],
      "source": [
        "#Solving the problem of summing the first N integers using a loop:\n",
        "def sum_iterative(n):\n",
        "  total = 0\n",
        "  for i in range(1, n + 1):\n",
        "    total += i\n",
        "  return total\n",
        "\n",
        "print(sum_iterative(5))"
      ]
    },
    {
      "cell_type": "code",
      "source": [
        "#Solving the problem of summing the first N integers using a recursion:\n",
        "def sum_recursion(n):\n",
        "  # define the base case, where to stop?\n",
        "  if n==0:\n",
        "    return 0\n",
        "  return n+sum_recursion(n-1)\n",
        "\n",
        "print(sum_recursion(5))"
      ],
      "metadata": {
        "colab": {
          "base_uri": "https://localhost:8080/"
        },
        "id": "L-3N2Uz60mrC",
        "outputId": "603ba2eb-f6c1-4dac-e870-55ce4678b821"
      },
      "execution_count": 3,
      "outputs": [
        {
          "output_type": "stream",
          "name": "stdout",
          "text": [
            "15\n"
          ]
        }
      ]
    },
    {
      "cell_type": "code",
      "source": [
        "# Doing factorials with loop\n",
        "def factorial_loop(n):\n",
        "  total = 1\n",
        "  for i in range(1, n + 1):\n",
        "    total *= i\n",
        "  return total\n",
        "\n",
        "print(factorial_loop(5))"
      ],
      "metadata": {
        "colab": {
          "base_uri": "https://localhost:8080/"
        },
        "id": "Ycr24ATp2bIF",
        "outputId": "3e98529f-18f6-4c41-ce11-977550fb1a1b"
      },
      "execution_count": 6,
      "outputs": [
        {
          "output_type": "stream",
          "name": "stdout",
          "text": [
            "120\n"
          ]
        }
      ]
    },
    {
      "cell_type": "code",
      "source": [
        "# Doing factorials with recursion\n",
        "def factorial(n):\n",
        "  if n == 0:\n",
        "    return 1\n",
        "  return n * factorial(n-1)\n",
        "\n",
        "print(factorial(5))"
      ],
      "metadata": {
        "colab": {
          "base_uri": "https://localhost:8080/"
        },
        "id": "OS41ZOES1qEE",
        "outputId": "a1dbe2f1-8832-47ff-ff61-872d256a99f2"
      },
      "execution_count": 4,
      "outputs": [
        {
          "output_type": "stream",
          "name": "stdout",
          "text": [
            "120\n"
          ]
        }
      ]
    },
    {
      "cell_type": "markdown",
      "source": [
        "Python Programming Exercise\n",
        "\n",
        "Construct a recursive function that takes 2 parameters as input - a string and a given index ( of the text). The aim is to visit every character of the text (from left to right - so starting with index 0) recursively."
      ],
      "metadata": {
        "id": "KEc80YXm2ydH"
      }
    },
    {
      "cell_type": "code",
      "source": [
        "def process(txt, i):\n",
        "  # base case - when to terminate\n",
        "  if i == len(txt):\n",
        "      return\n",
        "  print(txt[i])\n",
        "  # hop to the next character in the text\n",
        "  process(txt, i+1)\n",
        "\n",
        "process('This is just a test', 0)"
      ],
      "metadata": {
        "colab": {
          "base_uri": "https://localhost:8080/"
        },
        "id": "bEaXXdSL22Dr",
        "outputId": "3cc4a0b0-ac52-402b-ed90-6cd37311b364"
      },
      "execution_count": 7,
      "outputs": [
        {
          "output_type": "stream",
          "name": "stdout",
          "text": [
            "T\n",
            "h\n",
            "i\n",
            "s\n",
            " \n",
            "i\n",
            "s\n",
            " \n",
            "j\n",
            "u\n",
            "s\n",
            "t\n",
            " \n",
            "a\n",
            " \n",
            "t\n",
            "e\n",
            "s\n",
            "t\n"
          ]
        }
      ]
    }
  ]
}
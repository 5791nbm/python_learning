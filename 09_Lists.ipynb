{
  "nbformat": 4,
  "nbformat_minor": 0,
  "metadata": {
    "colab": {
      "provenance": [],
      "authorship_tag": "ABX9TyMnSmOzQqUFo4U8YgzedWX7",
      "include_colab_link": true
    },
    "kernelspec": {
      "name": "python3",
      "display_name": "Python 3"
    },
    "language_info": {
      "name": "python"
    }
  },
  "cells": [
    {
      "cell_type": "markdown",
      "metadata": {
        "id": "view-in-github",
        "colab_type": "text"
      },
      "source": [
        "<a href=\"https://colab.research.google.com/github/5791nbm/python_learning/blob/main/09_Lists.ipynb\" target=\"_parent\"><img src=\"https://colab.research.google.com/assets/colab-badge.svg\" alt=\"Open In Colab\"/></a>"
      ]
    },
    {
      "cell_type": "markdown",
      "source": [
        "# What is a list?\n",
        "[Python documentation](https://docs.python.org/3/tutorial/datastructures.html#)"
      ],
      "metadata": {
        "id": "bLrcKbzqcpnQ"
      }
    },
    {
      "cell_type": "code",
      "execution_count": 22,
      "metadata": {
        "id": "h7ocVs7uccDc"
      },
      "outputs": [],
      "source": [
        "#ususally this is called an array, but in python this is a list\n",
        "#If you want an array you can use NumPy arrays\n",
        "my_list = [1,5,10,4]\n",
        "other_list = list((1,3,'My name is bob',6,2.5))"
      ]
    },
    {
      "cell_type": "code",
      "source": [
        "print(my_list[2])\n",
        "print(my_list)\n",
        "print(other_list)"
      ],
      "metadata": {
        "colab": {
          "base_uri": "https://localhost:8080/"
        },
        "id": "34lXvyH9dg9s",
        "outputId": "e3ddde9a-8c47-4653-9f67-0a94112dfdeb"
      },
      "execution_count": 16,
      "outputs": [
        {
          "output_type": "stream",
          "name": "stdout",
          "text": [
            "10\n",
            "[1, 5, 10, 4]\n",
            "[1, 3, 'My name is bob', 6, 2.5]\n"
          ]
        }
      ]
    },
    {
      "cell_type": "code",
      "source": [
        "for item in my_list:\n",
        "    print(item)\n",
        "\n",
        "for item in other_list:\n",
        "    print(item)"
      ],
      "metadata": {
        "colab": {
          "base_uri": "https://localhost:8080/"
        },
        "id": "ODHFyJwTeJnX",
        "outputId": "6a9f3d7d-eab1-416b-cede-519bf4a9780d"
      },
      "execution_count": 17,
      "outputs": [
        {
          "output_type": "stream",
          "name": "stdout",
          "text": [
            "1\n",
            "5\n",
            "10\n",
            "4\n",
            "1\n",
            "3\n",
            "My name is bob\n",
            "6\n",
            "2.5\n"
          ]
        }
      ]
    },
    {
      "cell_type": "code",
      "source": [
        "print(len(my_list))\n",
        "print(type(my_list))"
      ],
      "metadata": {
        "colab": {
          "base_uri": "https://localhost:8080/"
        },
        "id": "YUZG3x3TeT_t",
        "outputId": "b192be74-5d64-40ee-bc0b-121c478c330e"
      },
      "execution_count": 18,
      "outputs": [
        {
          "output_type": "stream",
          "name": "stdout",
          "text": [
            "4\n",
            "<class 'list'>\n"
          ]
        }
      ]
    },
    {
      "cell_type": "code",
      "source": [
        "my_list[1] = \"Hello\"\n",
        "print(my_list)"
      ],
      "metadata": {
        "colab": {
          "base_uri": "https://localhost:8080/"
        },
        "id": "IAghUurFecfW",
        "outputId": "aaade84f-4e06-4510-ab5e-0da61bd55b2d"
      },
      "execution_count": 23,
      "outputs": [
        {
          "output_type": "stream",
          "name": "stdout",
          "text": [
            "[1, 'Hello', 10, 4]\n"
          ]
        }
      ]
    },
    {
      "cell_type": "code",
      "source": [
        "#del operator\n",
        "del my_list[1]\n",
        "print(my_list)"
      ],
      "metadata": {
        "colab": {
          "base_uri": "https://localhost:8080/"
        },
        "id": "KCihKNUfsja0",
        "outputId": "36feb874-1a0d-4ada-e05e-7fbd4dad557c"
      },
      "execution_count": 24,
      "outputs": [
        {
          "output_type": "stream",
          "name": "stdout",
          "text": [
            "[1, 10, 4]\n"
          ]
        }
      ]
    },
    {
      "cell_type": "code",
      "source": [
        "#append items to list\n",
        "my_list.append('A new list item')\n",
        "print(my_list)"
      ],
      "metadata": {
        "colab": {
          "base_uri": "https://localhost:8080/"
        },
        "id": "lYWJqRWptACz",
        "outputId": "9a1ffbf2-6172-4e5e-edad-f6072fd8a836"
      },
      "execution_count": 32,
      "outputs": [
        {
          "output_type": "stream",
          "name": "stdout",
          "text": [
            "[1, 10, 4, 'A new list item', 'A new list item']\n"
          ]
        }
      ]
    },
    {
      "cell_type": "code",
      "source": [
        "del my_list[-1]\n",
        "print(my_list)"
      ],
      "metadata": {
        "colab": {
          "base_uri": "https://localhost:8080/"
        },
        "id": "FNDaPQ6ktM19",
        "outputId": "794a7a98-00cc-4ed5-b600-936bd1424fff"
      },
      "execution_count": 34,
      "outputs": [
        {
          "output_type": "stream",
          "name": "stdout",
          "text": [
            "[1, 10, 4]\n"
          ]
        }
      ]
    },
    {
      "cell_type": "code",
      "source": [
        "print(other_list[2:4])"
      ],
      "metadata": {
        "colab": {
          "base_uri": "https://localhost:8080/"
        },
        "id": "ZDhKbf1StgLg",
        "outputId": "e10b0561-7a28-4954-eb9d-906093348134"
      },
      "execution_count": 37,
      "outputs": [
        {
          "output_type": "stream",
          "name": "stdout",
          "text": [
            "['My name is bob', 6]\n"
          ]
        }
      ]
    },
    {
      "cell_type": "code",
      "source": [
        "result = my_list + other_list\n",
        "print(result)"
      ],
      "metadata": {
        "colab": {
          "base_uri": "https://localhost:8080/"
        },
        "id": "my8GNi3ftwUv",
        "outputId": "4c0e8cb0-7715-4479-8bd7-3e8a2afe5ab3"
      },
      "execution_count": 38,
      "outputs": [
        {
          "output_type": "stream",
          "name": "stdout",
          "text": [
            "[1, 10, 4, 1, 3, 'My name is bob', 6, 2.5]\n"
          ]
        }
      ]
    },
    {
      "cell_type": "code",
      "source": [
        "my_list.extend(other_list)\n",
        "print(my_list)"
      ],
      "metadata": {
        "colab": {
          "base_uri": "https://localhost:8080/"
        },
        "id": "XDR8r-Yzt1x7",
        "outputId": "b407b00b-b44b-4c4e-fa9b-32b55086375a"
      },
      "execution_count": 39,
      "outputs": [
        {
          "output_type": "stream",
          "name": "stdout",
          "text": [
            "[1, 10, 4, 1, 3, 'My name is bob', 6, 2.5]\n"
          ]
        }
      ]
    },
    {
      "cell_type": "code",
      "source": [
        "print(my_list)"
      ],
      "metadata": {
        "colab": {
          "base_uri": "https://localhost:8080/"
        },
        "id": "aSzqdbq9t5px",
        "outputId": "0b476440-32f3-42ac-f501-591c13717201"
      },
      "execution_count": 40,
      "outputs": [
        {
          "output_type": "stream",
          "name": "stdout",
          "text": [
            "[1, 10, 4, 1, 3, 'My name is bob', 6, 2.5]\n"
          ]
        }
      ]
    },
    {
      "cell_type": "code",
      "source": [
        "my_list.remove(2.5)\n",
        "print(my_list)"
      ],
      "metadata": {
        "colab": {
          "base_uri": "https://localhost:8080/"
        },
        "id": "kFO2wI6uuLMq",
        "outputId": "39bb9a1b-c79e-44ca-fe7e-f66a38c8a775"
      },
      "execution_count": 42,
      "outputs": [
        {
          "output_type": "stream",
          "name": "stdout",
          "text": [
            "[1, 10, 4, 1, 3, 'My name is bob', 6]\n"
          ]
        }
      ]
    },
    {
      "cell_type": "code",
      "source": [],
      "metadata": {
        "id": "-SkkXMbIuXlQ"
      },
      "execution_count": null,
      "outputs": []
    }
  ]
}